{
 "cells": [
  {
   "cell_type": "code",
   "execution_count": null,
   "metadata": {
    "collapsed": true
   },
   "outputs": [],
   "source": [
    "# same params and variables initialization as log reg.\n",
    "W = tf.Variable(tf.zeros([5, 1]), name='weights')\n",
    "b = tf.Variable(0., name='bias')\n",
    "\n",
    "# former infrence is now used for combining inputs\n",
    "def combin_inputs(X):\n",
    "    return tf.matmul(X, W) + b\n",
    "\n",
    "# new inferred value is the sigmoid applied to the former\n",
    "def inference(X):\n",
    "    return tf.sigmoid(combine_inputs(X))\n",
    "\n"
   ]
  }
 ],
 "metadata": {
  "anaconda-cloud": {},
  "kernelspec": {
   "display_name": "Python [conda root]",
   "language": "python",
   "name": "conda-root-py"
  },
  "language_info": {
   "codemirror_mode": {
    "name": "ipython",
    "version": 2
   },
   "file_extension": ".py",
   "mimetype": "text/x-python",
   "name": "python",
   "nbconvert_exporter": "python",
   "pygments_lexer": "ipython2",
   "version": "2.7.12"
  }
 },
 "nbformat": 4,
 "nbformat_minor": 0
}
