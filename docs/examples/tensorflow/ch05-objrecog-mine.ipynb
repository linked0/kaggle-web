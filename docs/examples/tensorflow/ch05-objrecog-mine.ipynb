{
 "cells": [
  {
   "cell_type": "code",
   "execution_count": 2,
   "metadata": {
    "collapsed": false
   },
   "outputs": [
    {
     "name": "stdout",
     "output_type": "stream",
     "text": [
      "1.2.0\n"
     ]
    }
   ],
   "source": [
    "# 일단 그래프부터 만들어 보자\n",
    "# Graph basics부터 시작해서 아래 코드 부분을 만나자.\n",
    "import tensorflow as tf\n",
    "print tf.__version__\n"
   ]
  },
  {
   "cell_type": "code",
   "execution_count": 6,
   "metadata": {
    "collapsed": false
   },
   "outputs": [
    {
     "name": "stdout",
     "output_type": "stream",
     "text": [
      "29\n"
     ]
    }
   ],
   "source": [
    "import tensorflow as tf\n",
    "a = tf.constant([5, 4], name='input_a')\n",
    "b = tf.reduce_prod(a, name='prod_b')\n",
    "c = tf.reduce_sum(a, name='sum_c')\n",
    "d = tf.add(b,c, name='add_d')\n",
    "\n",
    "sess = tf.Session()\n",
    "output = sess.run(d)\n",
    "print output\n",
    "\n",
    "writer = tf.summary.FileWriter('./my_graph', sess.graph)\n",
    "writer.close()"
   ]
  },
  {
   "cell_type": "code",
   "execution_count": 5,
   "metadata": {
    "collapsed": false
   },
   "outputs": [
    {
     "data": {
      "text/plain": [
       "['__class__',\n",
       " '__delattr__',\n",
       " '__dict__',\n",
       " '__doc__',\n",
       " '__format__',\n",
       " '__getattribute__',\n",
       " '__hash__',\n",
       " '__init__',\n",
       " '__module__',\n",
       " '__new__',\n",
       " '__reduce__',\n",
       " '__reduce_ex__',\n",
       " '__repr__',\n",
       " '__setattr__',\n",
       " '__sizeof__',\n",
       " '__str__',\n",
       " '__subclasshook__',\n",
       " '__weakref__',\n",
       " '_add_event',\n",
       " '_add_graph_def',\n",
       " '_session_run_tags',\n",
       " '_write_plugin_assets',\n",
       " 'add_event',\n",
       " 'add_graph',\n",
       " 'add_meta_graph',\n",
       " 'add_run_metadata',\n",
       " 'add_session_log',\n",
       " 'add_summary',\n",
       " 'close',\n",
       " 'event_writer',\n",
       " 'flush',\n",
       " 'get_logdir',\n",
       " 'reopen']"
      ]
     },
     "execution_count": 5,
     "metadata": {},
     "output_type": "execute_result"
    }
   ],
   "source": [
    "dir(writer)\n"
   ]
  },
  {
   "cell_type": "code",
   "execution_count": 9,
   "metadata": {
    "collapsed": false
   },
   "outputs": [
    {
     "ename": "SyntaxError",
     "evalue": "can't assign to operator (<ipython-input-9-f0ad22ae9bb5>, line 1)",
     "output_type": "error",
     "traceback": [
      "\u001b[0;36m  File \u001b[0;32m\"<ipython-input-9-f0ad22ae9bb5>\"\u001b[0;36m, line \u001b[0;32m1\u001b[0m\n\u001b[0;31m    tensorboard --logdir='my_graph'\u001b[0m\n\u001b[0;31mSyntaxError\u001b[0m\u001b[0;31m:\u001b[0m can't assign to operator\n"
     ]
    }
   ],
   "source": [
    "tensorboard --logdir='my_graph'"
   ]
  },
  {
   "cell_type": "code",
   "execution_count": 22,
   "metadata": {
    "collapsed": false
   },
   "outputs": [],
   "source": [
    "a = tf.add(3,4)"
   ]
  },
  {
   "cell_type": "code",
   "execution_count": 23,
   "metadata": {
    "collapsed": false
   },
   "outputs": [],
   "source": [
    "sess = tf.Session()\n",
    "output = sess.run(a)"
   ]
  },
  {
   "cell_type": "code",
   "execution_count": 35,
   "metadata": {
    "collapsed": false
   },
   "outputs": [
    {
     "data": {
      "text/plain": [
       "array([4, 4, 4], dtype=int32)"
      ]
     },
     "execution_count": 35,
     "metadata": {},
     "output_type": "execute_result"
    }
   ],
   "source": [
    "x = tf.constant([[1,1,1],[1,1,1],[2,2,2]])\n",
    "rs = tf.reduce_sum(x)\n",
    "rs = tf.reduce_sum(x, [0])\n",
    "sess = tf.InteractiveSession()\n",
    "sess.run(rs)"
   ]
  },
  {
   "cell_type": "code",
   "execution_count": 25,
   "metadata": {
    "collapsed": false
   },
   "outputs": [
    {
     "data": {
      "text/plain": [
       "23"
      ]
     },
     "execution_count": 25,
     "metadata": {},
     "output_type": "execute_result"
    }
   ],
   "source": [
    "import tensorflow as tf\n",
    "import numpy as np\n",
    "a = tf.placeholder(tf.int32, shape=[2], name='my_input')\n",
    "b = tf.reduce_prod(a, name='prod_b')\n",
    "c = tf.reduce_sum(a, name='sum_c')\n",
    "\n",
    "d = tf.add(b, c, name='add_d')\n",
    "\n",
    "session = tf.Session()\n",
    "input_dict = {a:np.array([5,3], dtype=np.int32)}\n",
    "sess.run(d, feed_dict=input_dict)"
   ]
  },
  {
   "cell_type": "code",
   "execution_count": 38,
   "metadata": {
    "collapsed": false
   },
   "outputs": [
    {
     "name": "stdout",
     "output_type": "stream",
     "text": [
      "WARNING:tensorflow:From <ipython-input-38-721fdeaaf8e6>:31: initialize_all_variables (from tensorflow.python.ops.variables) is deprecated and will be removed after 2017-03-02.\n",
      "Instructions for updating:\n",
      "Use `tf.global_variables_initializer` instead.\n",
      "loss:  [7608772.5]\n",
      "loss:  [5352849.5]\n",
      "loss:  [5350043.5]\n",
      "loss:  [5347918.5]\n",
      "loss:  [5346299.5]\n",
      "loss:  [5345061.0]\n",
      "loss:  [5344105.5]\n",
      "loss:  [5343361.0]\n",
      "loss:  [5342774.0]\n",
      "loss:  [5342306.0]\n",
      "loss:  [5341925.5]\n",
      "loss:  [5341611.0]\n",
      "loss:  [5341345.0]\n",
      "loss:  [5341115.5]\n",
      "loss:  [5340913.0]\n",
      "loss:  [5340733.0]\n",
      "loss:  [5340566.5]\n",
      "loss:  [5340413.5]\n",
      "loss:  [5340268.0]\n",
      "loss:  [5340128.0]\n",
      "loss:  [5339993.0]\n",
      "loss:  [5339860.5]\n",
      "loss:  [5339733.5]\n",
      "loss:  [5339606.0]\n",
      "loss:  [5339482.5]\n",
      "loss:  [5339357.5]\n",
      "loss:  [5339234.5]\n",
      "loss:  [5339112.0]\n",
      "loss:  [5338989.5]\n",
      "loss:  [5338869.0]\n",
      "loss:  [5338747.0]\n",
      "loss:  [5338624.5]\n",
      "loss:  [5338503.5]\n",
      "loss:  [5338385.0]\n",
      "loss:  [5338262.0]\n",
      "loss:  [5338141.0]\n",
      "loss:  [5338022.5]\n",
      "loss:  [5337900.5]\n",
      "loss:  [5337780.5]\n",
      "loss:  [5337661.0]\n",
      "loss:  [5337538.5]\n",
      "loss:  [5337418.5]\n",
      "loss:  [5337297.0]\n",
      "loss:  [5337177.5]\n",
      "loss:  [5337056.5]\n",
      "loss:  [5336936.5]\n",
      "loss:  [5336815.0]\n",
      "loss:  [5336695.5]\n",
      "loss:  [5336574.5]\n",
      "loss:  [5336455.0]\n",
      "loss:  [5336334.0]\n",
      "loss:  [5336213.0]\n",
      "loss:  [5336092.5]\n",
      "loss:  [5335973.0]\n",
      "loss:  [5335852.5]\n",
      "loss:  [5335732.5]\n",
      "loss:  [5335610.5]\n",
      "loss:  [5335491.5]\n",
      "loss:  [5335370.5]\n",
      "loss:  [5335250.0]\n",
      "loss:  [5335129.5]\n",
      "loss:  [5335009.0]\n",
      "loss:  [5334888.0]\n",
      "loss:  [5334768.5]\n",
      "loss:  [5334647.0]\n",
      "loss:  [5334526.5]\n",
      "loss:  [5334409.0]\n",
      "loss:  [5334287.0]\n",
      "loss:  [5334167.5]\n",
      "loss:  [5334048.0]\n",
      "loss:  [5333925.5]\n",
      "loss:  [5333806.0]\n",
      "loss:  [5333685.5]\n",
      "loss:  [5333565.5]\n",
      "loss:  [5333446.0]\n",
      "loss:  [5333326.0]\n",
      "loss:  [5333205.5]\n",
      "loss:  [5333085.0]\n",
      "loss:  [5332965.0]\n",
      "loss:  [5332844.5]\n",
      "loss:  [5332724.0]\n",
      "loss:  [5332603.5]\n",
      "loss:  [5332485.0]\n",
      "loss:  [5332363.5]\n",
      "loss:  [5332243.5]\n",
      "loss:  [5332123.5]\n",
      "loss:  [5332002.5]\n",
      "loss:  [5331883.5]\n",
      "loss:  [5331762.5]\n",
      "loss:  [5331642.0]\n",
      "loss:  [5331523.0]\n",
      "loss:  [5331403.0]\n",
      "loss:  [5331282.0]\n",
      "loss:  [5331162.0]\n",
      "loss:  [5331042.0]\n",
      "loss:  [5330922.5]\n",
      "loss:  [5330802.5]\n",
      "loss:  [5330682.0]\n",
      "loss:  [5330562.5]\n",
      "loss:  [5330442.5]\n",
      "[[ 320.64968872]]\n",
      "[[ 267.78182983]]\n"
     ]
    }
   ],
   "source": [
    "W = tf.Variable(tf.zeros([2,1], name='weights'))\n",
    "b = tf.Variable(0., name='bias')\n",
    "\n",
    "def inference(X):\n",
    "    return tf.matmul(X, W) + b\n",
    "\n",
    "def loss(X, Y):\n",
    "    Y_predicted = inference(X)\n",
    "    return tf.reduce_sum(tf.squared_difference(Y, Y_predicted))\n",
    "\n",
    "def inputs():\n",
    "    weight_age = [[84, 46], [73, 20], [65, 52], [70, 30], [76, 57], \n",
    "                  [69, 25], [63, 28], [72, 36], [79, 57], [75, 44], \n",
    "                  [27, 24], [89, 31], [65, 52], [57, 23], [59, 60], \n",
    "                  [69, 48], [60, 34], [79, 51], [75, 50], [82, 34], \n",
    "                  [59, 46], [67, 23], [85, 37], [55, 40], [63, 30]]\n",
    "    blood_fat_content = [354, 190, 405, 263, 451, 302, 288, 385, 402, \n",
    "                         365, 209, 290, 346, 254, 395, 434, 220, 374, \n",
    "                         308, 220, 311, 181, 274, 303, 244]\n",
    "    return tf.to_float(weight_age), tf.to_float(blood_fat_content)\n",
    "\n",
    "def train(total_loss):\n",
    "    learning_rate = 0.0000001\n",
    "    return tf.train.GradientDescentOptimizer(learning_rate).minimize(total_loss)\n",
    "\n",
    "def evaluate(sess, X, Y):\n",
    "    print sess.run(inference([[80., 25.]])) # ~303\n",
    "    print sess.run(inference([[65., 25.]])) # ~256\n",
    "    \n",
    "with tf.Session() as sess:\n",
    "    tf.initialize_all_variables().run()\n",
    "    X, Y = inputs()\n",
    "    total_loss = loss(X, Y)\n",
    "    train_op = train(total_loss)\n",
    "    \n",
    "    coord = tf.train.Coordinator()\n",
    "    threads = tf.train.start_queue_runners(sess=sess, coord=coord)\n",
    "    \n",
    "    training_steps = 1000\n",
    "    for step in range(training_steps):\n",
    "        sess.run([train_op])\n",
    "        if step % 10 == 0:\n",
    "            print \"loss: \", sess.run([total_loss]) \n",
    "\n",
    "    evaluate(sess, X, Y)\n",
    "    coord.request_stop()\n",
    "    coord.join(threads)\n",
    "    sess.close()\n",
    "\n",
    "    "
   ]
  },
  {
   "cell_type": "code",
   "execution_count": 20,
   "metadata": {
    "collapsed": false
   },
   "outputs": [],
   "source": [
    "import tensorflow as tf\n",
    "arr1 = [1,2,3,4,5]\n",
    "arr2 = [11,22,33,44,55]\n",
    "p1 = tf.constant([arr1, arr2])"
   ]
  },
  {
   "cell_type": "code",
   "execution_count": 29,
   "metadata": {
    "collapsed": false
   },
   "outputs": [
    {
     "data": {
      "text/plain": [
       "['OVERLOADABLE_OPERATORS',\n",
       " '__abs__',\n",
       " '__add__',\n",
       " '__and__',\n",
       " '__array_priority__',\n",
       " '__bool__',\n",
       " '__class__',\n",
       " '__delattr__',\n",
       " '__dict__',\n",
       " '__div__',\n",
       " '__doc__',\n",
       " '__eq__',\n",
       " '__floordiv__',\n",
       " '__format__',\n",
       " '__ge__',\n",
       " '__getattribute__',\n",
       " '__getitem__',\n",
       " '__gt__',\n",
       " '__hash__',\n",
       " '__init__',\n",
       " '__invert__',\n",
       " '__iter__',\n",
       " '__le__',\n",
       " '__lt__',\n",
       " '__matmul__',\n",
       " '__mod__',\n",
       " '__module__',\n",
       " '__mul__',\n",
       " '__neg__',\n",
       " '__new__',\n",
       " '__nonzero__',\n",
       " '__or__',\n",
       " '__pow__',\n",
       " '__radd__',\n",
       " '__rand__',\n",
       " '__rdiv__',\n",
       " '__reduce__',\n",
       " '__reduce_ex__',\n",
       " '__repr__',\n",
       " '__rfloordiv__',\n",
       " '__rmatmul__',\n",
       " '__rmod__',\n",
       " '__rmul__',\n",
       " '__ror__',\n",
       " '__rpow__',\n",
       " '__rsub__',\n",
       " '__rtruediv__',\n",
       " '__rxor__',\n",
       " '__setattr__',\n",
       " '__sizeof__',\n",
       " '__str__',\n",
       " '__sub__',\n",
       " '__subclasshook__',\n",
       " '__truediv__',\n",
       " '__weakref__',\n",
       " '__xor__',\n",
       " '_add_consumer',\n",
       " '_as_node_def_input',\n",
       " '_as_tf_output',\n",
       " '_consumers',\n",
       " '_dtype',\n",
       " '_handle_dtype',\n",
       " '_handle_shape',\n",
       " '_op',\n",
       " '_override_operator',\n",
       " '_shape',\n",
       " '_shape_as_list',\n",
       " '_value_index',\n",
       " 'consumers',\n",
       " 'device',\n",
       " 'dtype',\n",
       " 'eval',\n",
       " 'get_shape',\n",
       " 'graph',\n",
       " 'name',\n",
       " 'op',\n",
       " 'set_shape',\n",
       " 'shape',\n",
       " 'value_index']"
      ]
     },
     "execution_count": 29,
     "metadata": {},
     "output_type": "execute_result"
    }
   ],
   "source": [
    "dir(p1)"
   ]
  },
  {
   "cell_type": "code",
   "execution_count": 22,
   "metadata": {
    "collapsed": false
   },
   "outputs": [
    {
     "ename": "TypeError",
     "evalue": "arg_max() takes at least 2 arguments (1 given)",
     "output_type": "error",
     "traceback": [
      "\u001b[0;31m---------------------------------------------------------------------------\u001b[0m",
      "\u001b[0;31mTypeError\u001b[0m                                 Traceback (most recent call last)",
      "\u001b[0;32m<ipython-input-22-db94318e5947>\u001b[0m in \u001b[0;36m<module>\u001b[0;34m()\u001b[0m\n\u001b[0;32m----> 1\u001b[0;31m \u001b[0mtf\u001b[0m\u001b[0;34m.\u001b[0m\u001b[0marg_max\u001b[0m\u001b[0;34m(\u001b[0m\u001b[0mp1\u001b[0m\u001b[0;34m)\u001b[0m\u001b[0;34m\u001b[0m\u001b[0m\n\u001b[0m",
      "\u001b[0;31mTypeError\u001b[0m: arg_max() takes at least 2 arguments (1 given)"
     ]
    }
   ],
   "source": [
    "tf.arg_max(p1)"
   ]
  },
  {
   "cell_type": "code",
   "execution_count": null,
   "metadata": {
    "collapsed": true
   },
   "outputs": [],
   "source": []
  }
 ],
 "metadata": {
  "anaconda-cloud": {},
  "kernelspec": {
   "display_name": "Python [conda root]",
   "language": "python",
   "name": "conda-root-py"
  },
  "language_info": {
   "codemirror_mode": {
    "name": "ipython",
    "version": 2
   },
   "file_extension": ".py",
   "mimetype": "text/x-python",
   "name": "python",
   "nbconvert_exporter": "python",
   "pygments_lexer": "ipython2",
   "version": "2.7.12"
  }
 },
 "nbformat": 4,
 "nbformat_minor": 1
}
