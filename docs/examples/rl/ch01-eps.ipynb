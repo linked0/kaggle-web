{
 "cells": [
  {
   "cell_type": "code",
   "execution_count": 32,
   "metadata": {
    "collapsed": false
   },
   "outputs": [
    {
     "name": "stdout",
     "output_type": "stream",
     "text": [
      "BanditControl init - eps:0.1\n",
      "init - m:0\n",
      "init - m:1\n",
      "init - m:2\n"
     ]
    }
   ],
   "source": [
    "from random import random\n",
    "\n",
    "class Bandit:\n",
    "    def __init__(self, m):\n",
    "        print('init - m:{0}'.format(m))\n",
    "\n",
    "class BanditControl:\n",
    "    def __init__(self, bandit_num=3, eps=0.1):\n",
    "        print('BanditControl init - eps:{0}'.format(eps))\n",
    "        self.bandits = []\n",
    "        self.eps = eps\n",
    "        for i in range(bandit_num):\n",
    "            self.bandits.append(Bandit(i))\n",
    "    \n",
    "    def play(self):\n",
    "        r = random()\n",
    "        if r < self.eps:\n",
    "            print('play random arm - random:{0}'.format(r))\n",
    "        else:\n",
    "            print('choose current best arm:{0}'.format(r))\n",
    "        print('update estimate for the arm played(i.e. avg = sum/N)')\n",
    "        \n",
    "ctrl = BanditControl()"
   ]
  },
  {
   "cell_type": "code",
   "execution_count": 33,
   "metadata": {
    "collapsed": false
   },
   "outputs": [
    {
     "name": "stdout",
     "output_type": "stream",
     "text": [
      "choose current best arm:0.600238056058\n",
      "update estimate for the arm played(i.e. avg = sum/N)\n"
     ]
    }
   ],
   "source": [
    "ctrl.play()"
   ]
  },
  {
   "cell_type": "code",
   "execution_count": null,
   "metadata": {
    "collapsed": true
   },
   "outputs": [],
   "source": []
  }
 ],
 "metadata": {
  "anaconda-cloud": {},
  "kernelspec": {
   "display_name": "Python [conda root]",
   "language": "python",
   "name": "conda-root-py"
  },
  "language_info": {
   "codemirror_mode": {
    "name": "ipython",
    "version": 2
   },
   "file_extension": ".py",
   "mimetype": "text/x-python",
   "name": "python",
   "nbconvert_exporter": "python",
   "pygments_lexer": "ipython2",
   "version": "2.7.12"
  }
 },
 "nbformat": 4,
 "nbformat_minor": 1
}
