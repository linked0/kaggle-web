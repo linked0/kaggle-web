{
 "cells": [
  {
   "cell_type": "code",
   "execution_count": 16,
   "metadata": {
    "collapsed": false
   },
   "outputs": [
    {
     "data": {
      "image/png": "[encoded data removed]",
      "text/plain": [
       "<matplotlib.figure.Figure at 0x106a0e610>"
      ]
     },
     "metadata": {},
     "output_type": "display_data"
    }
   ],
   "source": [
    "import numpy as np\n",
    "import matplotlib.pyplot as plt\n",
    "%matplotlib inline\n",
    "%config InlineBackend.close_figures = False\n",
    "\n",
    "def create_bandits(n, mean=0, std=1, b_std=1):\n",
    "    bandits = []\n",
    "\n",
    "    for i in range(n):\n",
    "        bandits.append([np.random.normal(mean, std), b_std])\n",
    "\n",
    "    return bandits\n",
    "\n",
    "\n",
    "def bandit_random_walk(bandits, shift):\n",
    "    for bandit in bandits:\n",
    "        bandit[0] += shift if np.random.uniform() < 0.5 else -shift\n",
    "    return bandits\n",
    "\n",
    "\n",
    "def main_func():\n",
    "    num_bandits = 10\n",
    "    episodes = 1000\n",
    "    alpha = 0.1\n",
    "    epsilon = 0.1\n",
    "    shift = 0.01\n",
    "\n",
    "    merge_choices_num = 1\n",
    "    reruns = 1000\n",
    "\n",
    "    merged_choices = []\n",
    "\n",
    "    for h in range(reruns):\n",
    "        correct_choices = []\n",
    "\n",
    "        bandits = create_bandits(num_bandits)\n",
    "        max_bandit = 0\n",
    "        best_bandit = 0\n",
    "        for i in range(len(bandits)):\n",
    "            if bandits[i][0] > max_bandit:\n",
    "                max_bandit = bandits[i][0]\n",
    "                best_bandit = i\n",
    "\n",
    "        q = np.zeros(num_bandits)\n",
    "        n = np.zeros(num_bandits)\n",
    "\n",
    "        for i in range(episodes):\n",
    "            bandit_random_walk(bandits, shift)    # Random walk by shift amount\n",
    "\n",
    "            selected_bandit = np.argmax(q)\n",
    "\n",
    "            if np.random.uniform() < epsilon:\n",
    "                selected_bandit = np.random.choice(len(q))\n",
    "\n",
    "            reward = np.random.normal(bandits[selected_bandit][0], bandits[selected_bandit][1])\n",
    "\n",
    "            n[selected_bandit] += 1\n",
    "\n",
    "            # q[selected_bandit] += (reward - q[selected_bandit]) / n[selected_bandit]    # Sample Average\n",
    "            # alpha = 1/(i + 1)  # Variable alpha\n",
    "            q[selected_bandit] += alpha * (reward - q[selected_bandit])   # Using alpha\n",
    "\n",
    "            correct_choices.append(int(selected_bandit == best_bandit))\n",
    "\n",
    "            if i <= merge_choices_num:\n",
    "                merged_choice = sum(correct_choices)/len(correct_choices)\n",
    "            else:\n",
    "                merged_choice = sum(correct_choices[-merge_choices_num:])/merge_choices_num\n",
    "\n",
    "            if h == 0:\n",
    "                merged_choices.append(merged_choice)\n",
    "            else:\n",
    "                merged_choices[i] += (merged_choice - merged_choices[i]) / (h + 1)\n",
    "\n",
    "    plt.axis([0, episodes, -0.5, 1.5])\n",
    "    plt.plot(range(episodes), merged_choices)\n",
    "    plt.show()\n",
    "            \n",
    "main_func()  "
   ]
  },
  {
   "cell_type": "code",
   "execution_count": 7,
   "metadata": {
    "collapsed": false
   },
   "outputs": [
    {
     "data": {
      "text/plain": [
       "[-0.5955212118560875, 1]"
      ]
     },
     "execution_count": 7,
     "metadata": {},
     "output_type": "execute_result"
    }
   ],
   "source": [
    "[np.random.normal(0, 1), 1]"
   ]
  },
  {
   "cell_type": "code",
   "execution_count": null,
   "metadata": {
    "collapsed": true
   },
   "outputs": [],
   "source": []
  }
 ],
 "metadata": {
  "anaconda-cloud": {},
  "kernelspec": {
   "display_name": "Python [conda root]",
   "language": "python",
   "name": "conda-root-py"
  },
  "language_info": {
   "codemirror_mode": {
    "name": "ipython",
    "version": 2
   },
   "file_extension": ".py",
   "mimetype": "text/x-python",
   "name": "python",
   "nbconvert_exporter": "python",
   "pygments_lexer": "ipython2",
   "version": "2.7.12"
  }
 },
 "nbformat": 4,
 "nbformat_minor": 1
}
