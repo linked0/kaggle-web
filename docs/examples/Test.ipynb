{
 "cells": [
  {
   "cell_type": "code",
   "execution_count": 2,
   "metadata": {
    "collapsed": false
   },
   "outputs": [
    {
     "data": {
      "text/plain": [
       "numpy.ndarray"
      ]
     },
     "execution_count": 2,
     "metadata": {},
     "output_type": "execute_result"
    }
   ],
   "source": [
    "import pandas as pd\n",
    "import numpy as np\n",
    "arr = np.array([1,2,3,4,5])\n",
    "index = (arr==3)\n",
    "type(index)"
   ]
  },
  {
   "cell_type": "code",
   "execution_count": 20,
   "metadata": {
    "collapsed": false
   },
   "outputs": [
    {
     "data": {
      "text/plain": [
       "array([9, 9, 9, 9, 9, 9, 9, 9, 9, 9])"
      ]
     },
     "execution_count": 20,
     "metadata": {},
     "output_type": "execute_result"
    }
   ],
   "source": [
    "arr = np.arange(100).reshape((10,10))\n",
    "np.argmax(arr, 1)"
   ]
  },
  {
   "cell_type": "code",
   "execution_count": 21,
   "metadata": {
    "collapsed": false
   },
   "outputs": [
    {
     "data": {
      "text/plain": [
       "array([[ 0,  1,  2,  3,  4,  5,  6,  7,  8,  9],\n",
       "       [10, 11, 12, 13, 14, 15, 16, 17, 18, 19],\n",
       "       [20, 21, 22, 23, 24, 25, 26, 27, 28, 29],\n",
       "       [30, 31, 32, 33, 34, 35, 36, 37, 38, 39],\n",
       "       [40, 41, 42, 43, 44, 45, 46, 47, 48, 49],\n",
       "       [50, 51, 52, 53, 54, 55, 56, 57, 58, 59],\n",
       "       [60, 61, 62, 63, 64, 65, 66, 67, 68, 69],\n",
       "       [70, 71, 72, 73, 74, 75, 76, 77, 78, 79],\n",
       "       [80, 81, 82, 83, 84, 85, 86, 87, 88, 89],\n",
       "       [90, 91, 92, 93, 94, 95, 96, 97, 98, 99]])"
      ]
     },
     "execution_count": 21,
     "metadata": {},
     "output_type": "execute_result"
    }
   ],
   "source": [
    "arr"
   ]
  },
  {
   "cell_type": "code",
   "execution_count": 24,
   "metadata": {
    "collapsed": false
   },
   "outputs": [
    {
     "data": {
      "text/plain": [
       "array([0, 1, 2, 3, 4, 5, 6, 7, 8, 9])"
      ]
     },
     "execution_count": 24,
     "metadata": {},
     "output_type": "execute_result"
    }
   ],
   "source": [
    "arr = np.arange(10)\n",
    "arr"
   ]
  },
  {
   "cell_type": "code",
   "execution_count": 25,
   "metadata": {
    "collapsed": false
   },
   "outputs": [
    {
     "data": {
      "text/plain": [
       "array([[ True, False, False, False, False, False, False, False, False,\n",
       "        False],\n",
       "       [False,  True, False, False, False, False, False, False, False,\n",
       "        False],\n",
       "       [False, False,  True, False, False, False, False, False, False,\n",
       "        False],\n",
       "       [False, False, False,  True, False, False, False, False, False,\n",
       "        False],\n",
       "       [False, False, False, False,  True, False, False, False, False,\n",
       "        False],\n",
       "       [False, False, False, False, False,  True, False, False, False,\n",
       "        False],\n",
       "       [False, False, False, False, False, False,  True, False, False,\n",
       "        False],\n",
       "       [False, False, False, False, False, False, False,  True, False,\n",
       "        False],\n",
       "       [False, False, False, False, False, False, False, False,  True,\n",
       "        False],\n",
       "       [False, False, False, False, False, False, False, False, False,\n",
       "         True]], dtype=bool)"
      ]
     },
     "execution_count": 25,
     "metadata": {},
     "output_type": "execute_result"
    }
   ],
   "source": [
    "np.arange(10) == arr[:, None]"
   ]
  },
  {
   "cell_type": "code",
   "execution_count": 6,
   "metadata": {
    "collapsed": false
   },
   "outputs": [
    {
     "data": {
      "text/plain": [
       "array([3])"
      ]
     },
     "execution_count": 6,
     "metadata": {},
     "output_type": "execute_result"
    }
   ],
   "source": [
    "arr[index]"
   ]
  },
  {
   "cell_type": "code",
   "execution_count": 7,
   "metadata": {
    "collapsed": false
   },
   "outputs": [
    {
     "name": "stdout",
     "output_type": "stream",
     "text": [
      "[3]\n"
     ]
    }
   ],
   "source": [
    "print(arr[index])"
   ]
  },
  {
   "cell_type": "code",
   "execution_count": 8,
   "metadata": {
    "collapsed": false
   },
   "outputs": [
    {
     "name": "stdout",
     "output_type": "stream",
     "text": [
      "[3]\n"
     ]
    }
   ],
   "source": [
    "print(arr[i2])"
   ]
  },
  {
   "cell_type": "code",
   "execution_count": 10,
   "metadata": {
    "collapsed": false
   },
   "outputs": [
    {
     "name": "stdout",
     "output_type": "stream",
     "text": [
      "[3 2 4 5 1]\n"
     ]
    }
   ],
   "source": [
    "print(arr[[2,1,3,4,0]])\n"
   ]
  },
  {
   "cell_type": "raw",
   "metadata": {},
   "source": []
  },
  {
   "cell_type": "code",
   "execution_count": 11,
   "metadata": {
    "collapsed": false
   },
   "outputs": [
    {
     "ename": "TypeError",
     "evalue": "list indices must be integers, not list",
     "output_type": "error",
     "traceback": [
      "\u001b[0;31m---------------------------------------------------------------------------\u001b[0m",
      "\u001b[0;31mTypeError\u001b[0m                                 Traceback (most recent call last)",
      "\u001b[0;32m<ipython-input-11-d522300e6a4b>\u001b[0m in \u001b[0;36m<module>\u001b[0;34m()\u001b[0m\n\u001b[1;32m      1\u001b[0m \u001b[0marr2\u001b[0m \u001b[0;34m=\u001b[0m \u001b[0;34m[\u001b[0m\u001b[0;36m0\u001b[0m\u001b[0;34m,\u001b[0m\u001b[0;36m1\u001b[0m\u001b[0;34m,\u001b[0m\u001b[0;36m2\u001b[0m\u001b[0;34m,\u001b[0m\u001b[0;36m3\u001b[0m\u001b[0;34m,\u001b[0m\u001b[0;36m4\u001b[0m\u001b[0;34m]\u001b[0m\u001b[0;34m\u001b[0m\u001b[0m\n\u001b[0;32m----> 2\u001b[0;31m \u001b[0;32mprint\u001b[0m\u001b[0;34m(\u001b[0m\u001b[0marr2\u001b[0m\u001b[0;34m[\u001b[0m\u001b[0;34m[\u001b[0m\u001b[0;36m0\u001b[0m\u001b[0;34m,\u001b[0m\u001b[0;36m1\u001b[0m\u001b[0;34m,\u001b[0m\u001b[0;36m2\u001b[0m\u001b[0;34m,\u001b[0m\u001b[0;36m4\u001b[0m\u001b[0;34m,\u001b[0m\u001b[0;36m3\u001b[0m\u001b[0;34m]\u001b[0m\u001b[0;34m]\u001b[0m\u001b[0;34m)\u001b[0m\u001b[0;34m\u001b[0m\u001b[0m\n\u001b[0m",
      "\u001b[0;31mTypeError\u001b[0m: list indices must be integers, not list"
     ]
    }
   ],
   "source": [
    "arr2 = [0,1,2,3,4]\n",
    "print(arr2[[0,1,2,4,3]])"
   ]
  },
  {
   "cell_type": "code",
   "execution_count": 22,
   "metadata": {
    "collapsed": false
   },
   "outputs": [
    {
     "name": "stdout",
     "output_type": "stream",
     "text": [
      "3\n",
      "1\n",
      "8\n",
      "7\n",
      "6\n"
     ]
    }
   ],
   "source": [
    "import random\n",
    "for i in range(1,10,2):\n",
    "    print(random.randint(1,10))"
   ]
  },
  {
   "cell_type": "code",
   "execution_count": 25,
   "metadata": {
    "collapsed": false
   },
   "outputs": [
    {
     "name": "stdout",
     "output_type": "stream",
     "text": [
      "횟수 입력하세요1\n"
     ]
    }
   ],
   "source": [
    "from Tkinter import *\n",
    "root=Tk()\n",
    "label = Label(root, text=\"I am a label widget\")\n",
    "button = Button(root, text=\"I am a button\")\n",
    "label.pack()\n",
    "button.pack()\n",
    "root.mainloop()\n",
    "count = input(\"횟수 입력하세요\")"
   ]
  },
  {
   "cell_type": "code",
   "execution_count": 29,
   "metadata": {
    "collapsed": false
   },
   "outputs": [
    {
     "data": {
      "text/plain": [
       "False"
      ]
     },
     "execution_count": 29,
     "metadata": {},
     "output_type": "execute_result"
    }
   ],
   "source": [
    "1%2 == 0"
   ]
  },
  {
   "cell_type": "code",
   "execution_count": 27,
   "metadata": {
    "collapsed": false
   },
   "outputs": [
    {
     "data": {
      "text/plain": [
       "7"
      ]
     },
     "execution_count": 27,
     "metadata": {},
     "output_type": "execute_result"
    }
   ],
   "source": [
    "28//4"
   ]
  },
  {
   "cell_type": "code",
   "execution_count": 35,
   "metadata": {
    "collapsed": false
   },
   "outputs": [
    {
     "name": "stdout",
     "output_type": "stream",
     "text": [
      "<!doctype html><html itemscope=\"\" itemtype=\"http://schema.org/WebPage\" lang=\"ko\"><head><meta content=\"text/html; charset=UTF-8\" http-equiv=\"Content-Type\"><meta content=\"/images/branding/googleg/1x/googleg_standard_color_128dp.png\" itemprop=\"image\"><title>Google</title><script>(function(){window.google={kEI:'DcvlWNCeEYif8QXczK2gBQ',kEXPI:'1351892,1352468,1352864,1352994,1353038,1353106,3700264,3700347,3700405,4029370,4029815,4031109,4032678,4036527,4039268,4043492,4045841,4048347,4063965,4064904,4065786,4066196,4072364,4072777,4076096,4076999,4078430,4078760,4081039,4081165,4083458,4084180,4089338,4090550,4090553,4090806,4092627,4092934,4093082,4093313,4093484,4093497,4093791,4094251,4094544,4094832,4095574,4095910,4095997,4096323,4097153,4097203,4097922,4097929,4098051,4098600,4098733,4098740,4098752,4099764,4100169,4100379,4100827,4101050,4101376,4101654,4101684,4102237,4102411,4102658,4102689,4102987,4103167,4103254,4103475,4103849,4103999,4104057,4104063,4104158,4104197,4104290,4104497,4104722,4104738,4105085,4105177,4105181,4105243,4105303,4105317,4105471,4105570,4106077,4106469,4106687,4106889,8503585,8505964,8507380,8508229,8508707,8508931,8509037,8509373,8509826,10200083,19001941,19001944,41027342',authuser:0,kscs:'c9c918f0_24'};google.kHL='ko';})();(function(){google.lc=[];google.li=0;google.getEI=function(a){for(var b;a&&(!a.getAttribute||!(b=a.getAttribute(\"eid\")));)a=a.parentNode;return b||google.kEI};google.getLEI=function(a){for(var b=null;a&&(!a.getAttribute||!(b=a.getAttribute(\"leid\")));)a=a.parentNode;return b};google.https=function(){return\"https:\"==window.location.protocol};google.ml=function(){return null};google.wl=function(a,b){try{google.ml(Error(a),!1,b)}catch(c){}};google.time=function(){return(new Date).getTime()};google.log=function(a,b,c,d,g){a=google.logUrl(a,b,c,d,g);if(\"\"!=a){b=new Image;var e=google.lc,f=google.li;e[f]=b;b.onerror=b.onload=b.onabort=function(){delete e[f]};window.google&&window.google.vel&&window.google.vel.lu&&window.google.vel.lu(a);b.src=a;google.li=f+1}};google.logUrl=function(a,b,c,d,g){var e=\"\",f=google.ls||\"\";c||-1!=b.search(\"&ei=\")||(e=\"&ei=\"+google.getEI(d),-1==b.search(\"&lei=\")&&(d=google.getLEI(d))&&(e+=\"&lei=\"+d));a=c||\"/\"+(g||\"gen_204\")+\"?atyp=i&ct=\"+a+\"&cad=\"+b+e+f+\"&zx=\"+google.time();/^http:/i.test(a)&&google.https()&&(google.ml(Error(\"a\"),!1,{src:a,glmm:1}),a=\"\");return a};google.y={};google.x=function(a,b){google.y[a.id]=[a,b];return!1};google.lq=[];google.load=function(a,b,c){google.lq.push([[a],b,c])};google.loadAll=function(a,b){google.lq.push([a,b])};}).call(this);var a=window.location,b=a.href.indexOf(\"#\");if(0<=b){var c=a.href.substring(b+1);/(^|&)q=/.test(c)&&-1==c.indexOf(\"#\")&&a.replace(\"/search?\"+c.replace(/(^|&)fp=[^&]*/g,\"\")+\"&cad=h\")};</script><style>#gbar,#guser{font-size:13px;padding-top:1px !important;}#gbar{height:22px}#guser{padding-bottom:7px !important;text-align:right}.gbh,.gbd{border-top:1px solid #c9d7f1;font-size:1px}.gbh{height:0;position:absolute;top:24px;width:100%}@media all{.gb1{height:22px;margin-right:.5em;vertical-align:top}#gbar{float:left}}a.gb1,a.gb4{text-decoration:underline !important}a.gb1,a.gb4{color:#00c !important}.gbi .gb4{color:#dd8e27 !important}.gbf .gb4{color:#900 !important}\n",
      "</style><style>body,td,a,p,.h{font-family:굴림,돋움,arial,sans-serif}.ko{font-size:9pt}body{margin:0;overflow-y:scroll}#gog{padding:3px 8px 0}td{line-height:.8em}.gac_m td{line-height:17px}form{margin-bottom:20px}.h{color:#36c}.q{color:#00c}.ts td{padding:0}.ts{border-collapse:collapse}em{font-weight:bold;font-style:normal}.lst{height:25px;width:496px}.gsfi,.lst{font:18px arial,sans-serif}.gsfs{font:17px arial,sans-serif}.ds{display:inline-box;display:inline-block;margin:3px 0 4px;margin-left:4px}input{font-family:inherit}a.gb1,a.gb2,a.gb3,a.gb4{color:#11c !important}body{background:#fff;color:black}a{color:#11c;text-decoration:none}a:hover,a:active{text-decoration:underline}.fl a{color:#36c}a:visited{color:#551a8b}a.gb1,a.gb4{text-decoration:underline}a.gb3:hover{text-decoration:none}#ghead a.gb2:hover{color:#fff !important}.sblc{padding-top:5px}.sblc a{display:block;margin:2px 0;margin-left:13px;font-size:11px}.lsbb{background:#eee;border:solid 1px;border-color:#ccc #999 #999 #ccc;height:30px}.lsbb{display:block}.ftl,#fll a{display:inline-block;margin:0 12px}.lsb{background:url(/images/nav_logo229.png) 0 -261px repeat-x;border:none;color:#000;cursor:pointer;height:30px;margin:0;outline:0;font:15px arial,sans-serif;vertical-align:top}.lsb:active{background:#ccc}.lst:focus{outline:none}.tiah{width:458px}</style><script></script><link href=\"/images/branding/product/ico/googleg_lodp.ico\" rel=\"shortcut icon\"></head><body bgcolor=\"#fff\"><script>(function(){var src='/images/nav_logo229.png';var iesg=false;document.body.onload = function(){window.n && window.n();if (document.images){new Image().src=src;}\n",
      "if (!iesg){document.f&&document.f.q.focus();document.gbqf&&document.gbqf.q.focus();}\n",
      "}\n",
      "})();</script><div id=\"mngb\"> <div id=gbar><nobr><b class=gb1>검색</b> <a class=gb1 href=\"https://www.google.co.kr/imghp?hl=ko&tab=wi\">이미지</a> <a class=gb1 href=\"https://maps.google.co.kr/maps?hl=ko&tab=wl\">지도</a> <a class=gb1 href=\"https://play.google.com/?hl=ko&tab=w8\">Play</a> <a class=gb1 href=\"https://www.youtube.com/?gl=KR&tab=w1\">YouTube</a> <a class=gb1 href=\"https://news.google.co.kr/nwshp?hl=ko&tab=wn\">뉴스</a> <a class=gb1 href=\"https://mail.google.com/mail/?tab=wm\">Gmail</a> <a class=gb1 href=\"https://drive.google.com/?tab=wo\">드라이브</a> <a class=gb1 style=\"text-decoration:none\" href=\"https://www.google.co.kr/intl/ko/options/\"><u>더보기</u> &raquo;</a></nobr></div><div id=guser width=100%><nobr><span id=gbn class=gbi></span><span id=gbf class=gbf></span><span id=gbe></span><a href=\"http://www.google.co.kr/history/optout?hl=ko\" class=gb4>웹 기록</a> | <a  href=\"/preferences?hl=ko\" class=gb4>설정</a> | <a target=_top id=gb_70 href=\"https://accounts.google.com/ServiceLogin?hl=ko&passive=true&continue=https://www.google.co.kr/%3Fgfe_rd%3Dcr%26ei%3DDMvlWNnRHKnz8AeXk4gI\" class=gb4>로그인</a></nobr></div><div class=gbh style=left:0></div><div class=gbh style=right:0></div> </div><center><br clear=\"all\" id=\"lgpd\"><div id=\"lga\"><div style=\"padding:28px 0 3px\"><div style=\"height:110px;width:276px;background:url(/images/branding/googlelogo/1x/googlelogo_white_background_color_272x92dp.png) no-repeat\" title=\"Google\" align=\"left\" id=\"hplogo\" onload=\"window.lol&&lol()\"><div style=\"color:#777;font-size:16px;font-weight:bold;position:relative;top:70px;left:218px\" nowrap=\"\">한국\r\n",
      "</div></div></div><br></div><form action=\"/search\" name=\"f\"><table cellpadding=\"0\" cellspacing=\"0\"><tr valign=\"top\"><td width=\"25%\">&nbsp;</td><td align=\"center\" nowrap=\"\"><input name=\"ie\" value=\"EUC-KR\" type=\"hidden\"><input value=\"ko\" name=\"hl\" type=\"hidden\"><input name=\"source\" type=\"hidden\" value=\"hp\"><input name=\"biw\" type=\"hidden\"><input name=\"bih\" type=\"hidden\"><div class=\"ds\" style=\"height:32px;margin:4px 0\"><div style=\"position:relative;zoom:1\"><input style=\"color:#000;margin:0;padding:5px 8px 0 6px;vertical-align:top;padding-right:38px\" autocomplete=\"off\" class=\"lst tiah\" value=\"\" title=\"Google 검색\" maxlength=\"2048\" name=\"q\" size=\"57\"><img src=\"/textinputassistant/tia.png\" style=\"position:absolute;cursor:pointer;right:5px;top:4px;z-index:300\" onclick=\"(function(){var src='/textinputassistant/11/ko_tia.js';var s=document.createElement('script');s.src=src;google.dom.append(s);})();\" alt=\"\" height=\"23\" width=\"27\"></div></div><br style=\"line-height:0\"><span class=\"ds\"><span class=\"lsbb\"><input class=\"lsb\" value=\"Google 검색\" name=\"btnG\" type=\"submit\"></span></span><span class=\"ds\"><span class=\"lsbb\"><input class=\"lsb\" value=\"I’m Feeling Lucky\" name=\"btnI\" onclick=\"if(this.form.q.value)this.checked=1; else top.location='/doodles/'\" type=\"submit\"></span></span></td><td class=\"fl sblc\" align=\"left\" nowrap=\"\" width=\"25%\"><a href=\"/advanced_search?hl=ko&amp;authuser=0\">고급검색</a><a href=\"/language_tools?hl=ko&amp;authuser=0\">언어도구</a></td></tr></table><input id=\"gbv\" name=\"gbv\" type=\"hidden\" value=\"1\"></form><div id=\"gac_scont\"></div><div style=\"font-size:83%;min-height:3.5em\"><br></div><span id=\"footer\"><div style=\"font-size:10pt\"><div style=\"margin:19px auto;text-align:center\" id=\"fll\"><a href=\"/intl/ko/ads/\">광고 프로그램</a><a href=\"http://www.google.co.kr/intl/ko/services/\">비즈니스 솔루션</a><a href=\"https://plus.google.com/102197601262446632410\" rel=\"publisher\">+Google</a><a href=\"/intl/ko/about.html\">Google 정보</a><a href=\"https://www.google.co.kr/setprefdomain?prefdom=US&amp;sig=__lghZenZYKHrXF3OYcBV_QDIbWf8%3D\" id=\"fehl\">Google.com</a></div></div><p style=\"color:#767676;font-size:8pt\">&copy; 2017 - <a href=\"/intl/ko/policies/privacy/\">개인정보처리방침</a> - <a href=\"/intl/ko/policies/terms/\">약관</a></p></span></center><script>(function(){window.google.cdo={height:0,width:0};(function(){var a=window.innerWidth,b=window.innerHeight;if(!a||!b)var c=window.document,d=\"CSS1Compat\"==c.compatMode?c.documentElement:c.body,a=d.clientWidth,b=d.clientHeight;a&&b&&(a!=google.cdo.width||b!=google.cdo.height)&&google.log(\"\",\"\",\"/client_204?&atyp=i&biw=\"+a+\"&bih=\"+b+\"&ei=\"+google.kEI);}).call(this);})();</script><div id=\"xjsd\"></div><div id=\"xjsi\"><script>(function(){function c(b){window.setTimeout(function(){var a=document.createElement(\"script\");a.src=b;document.getElementById(\"xjsd\").appendChild(a)},0)}google.dljp=function(b,a){google.xjsu=b;c(a)};google.dlj=c;}).call(this);(function(){window.google.xjsrm=[];})();if(google.y)google.y.first=[];if(!google.xjs){window._=window._||{};window._DumpException=window._._DumpException=function(e){throw e};if(google.timers&&google.timers.load.t){google.timers.load.t.xjsls=new Date().getTime();}google.dljp('/xjs/_/js/k\\x3dxjs.hp.en_US.7C6M9EbXp_c.O/m\\x3dsb_he,d/am\\x3dAAg/rt\\x3dj/d\\x3d1/t\\x3dzcms/rs\\x3dACT90oHh3OdgmJJN4Ofdfqqqr2k00awZag','/xjs/_/js/k\\x3dxjs.hp.en_US.7C6M9EbXp_c.O/m\\x3dsb_he,d/am\\x3dAAg/rt\\x3dj/d\\x3d1/t\\x3dzcms/rs\\x3dACT90oHh3OdgmJJN4Ofdfqqqr2k00awZag');google.xjs=1;}google.pmc={\"sb_he\":{\"agen\":true,\"cgen\":true,\"client\":\"heirloom-hp\",\"dh\":true,\"dhqt\":true,\"ds\":\"\",\"fl\":true,\"host\":\"google.co.kr\",\"isbh\":28,\"jam\":0,\"jsonp\":true,\"msgs\":{\"cibl\":\"검색어 지우기\",\"dym\":\"이것을 찾으셨나요?\",\"lcky\":\"I’m Feeling Lucky\",\"lml\":\"자세히 알아보기\",\"oskt\":\"입력 도구\",\"psrc\":\"검색어가 \\u003Ca href=\\\"/history\\\"\\u003E웹 기록\\u003C/a\\u003E에서 삭제되었습니다.\",\"psrl\":\"삭제\",\"sbit\":\"이미지로 검색\",\"srch\":\"Google 검색\"},\"nds\":true,\"ovr\":{},\"pq\":\"\",\"refpd\":true,\"refspre\":true,\"rfs\":[],\"sbpl\":24,\"sbpr\":24,\"scd\":10,\"sce\":5,\"stok\":\"0Kwx8MrIxtUmYnwJpnty_QdJabo\"},\"d\":{},\"YFCs/g\":{}};google.y.first.push(function(){if(google.med){google.med('init');google.initHistory();google.med('history');}});if(google.j&&google.j.en&&google.j.xi){window.setTimeout(google.j.xi,0);}\n",
      "</script></div></body></html>\n"
     ]
    }
   ],
   "source": [
    "import requests\n",
    "url = 'https://www.google.com'\n",
    "r = requests.get(url)\n",
    "print(r.text)"
   ]
  },
  {
   "cell_type": "code",
   "execution_count": 36,
   "metadata": {
    "collapsed": false
   },
   "outputs": [
    {
     "name": "stdout",
     "output_type": "stream",
     "text": [
      "Test.ipynb       \u001b[34mpydata\u001b[m\u001b[m/          \u001b[34mtf-udacity-pyml\u001b[m\u001b[m/\r\n",
      "\u001b[31ma.out\u001b[m\u001b[m*           test.cpp\r\n"
     ]
    }
   ],
   "source": [
    "ls"
   ]
  },
  {
   "cell_type": "code",
   "execution_count": 37,
   "metadata": {
    "collapsed": true
   },
   "outputs": [],
   "source": [
    "mkdir \"test\""
   ]
  },
  {
   "cell_type": "code",
   "execution_count": 38,
   "metadata": {
    "collapsed": false
   },
   "outputs": [
    {
     "name": "stdout",
     "output_type": "stream",
     "text": [
      "Test.ipynb       \u001b[34mpydata\u001b[m\u001b[m/          test.cpp\r\n",
      "\u001b[31ma.out\u001b[m\u001b[m*           \u001b[34mtest\u001b[m\u001b[m/            \u001b[34mtf-udacity-pyml\u001b[m\u001b[m/\r\n"
     ]
    }
   ],
   "source": [
    "ls"
   ]
  },
  {
   "cell_type": "code",
   "execution_count": null,
   "metadata": {
    "collapsed": false
   },
   "outputs": [],
   "source": [
    "ls"
   ]
  },
  {
   "cell_type": "code",
   "execution_count": null,
   "metadata": {
    "collapsed": true
   },
   "outputs": [],
   "source": [
    "import glob\n",
    "files = glob.glob('./*.py')"
   ]
  },
  {
   "cell_type": "code",
   "execution_count": null,
   "metadata": {
    "collapsed": true
   },
   "outputs": [],
   "source": [
    "files"
   ]
  },
  {
   "cell_type": "code",
   "execution_count": null,
   "metadata": {
    "collapsed": true
   },
   "outputs": [],
   "source": [
    "sum2  = 100\n",
    "print \"9에서 12까지의 정수 합계는 \", sum2, \"이다\""
   ]
  },
  {
   "cell_type": "code",
   "execution_count": 6,
   "metadata": {
    "collapsed": false
   },
   "outputs": [
    {
     "name": "stdout",
     "output_type": "stream",
     "text": [
      "2\n",
      "3\n",
      "5\n",
      "7\n",
      "11\n",
      "13\n",
      "17\n",
      "19\n",
      "23\n",
      "29\n",
      "31\n",
      "37\n",
      "41\n",
      "43\n",
      "47\n",
      "53\n",
      "59\n",
      "61\n",
      "67\n",
      "71\n",
      "73\n",
      "79\n",
      "83\n",
      "89\n",
      "97\n"
     ]
    }
   ],
   "source": [
    "for number in range(1, 101, 1):\n",
    "    if number == 2: #2는 소수이므로 바로 출력\n",
    "        print number\n",
    "    for x in range(2,number): #2부터 number-1까지 나누어 본다\n",
    "        if number % x == 0: #나누어 떨어지면 소수가 아니므로 break\n",
    "            break\n",
    "        elif x == number - 1: #number-1까지 나누어지지 않으면 소수\n",
    "            print number\n"
   ]
  },
  {
   "cell_type": "code",
   "execution_count": 9,
   "metadata": {
    "collapsed": false
   },
   "outputs": [
    {
     "ename": "NameError",
     "evalue": "name 'start' is not defined",
     "output_type": "error",
     "traceback": [
      "\u001b[0;31m---------------------------------------------------------------------------\u001b[0m",
      "\u001b[0;31mNameError\u001b[0m                                 Traceback (most recent call last)",
      "\u001b[0;32m<ipython-input-9-a56b01726177>\u001b[0m in \u001b[0;36m<module>\u001b[0;34m()\u001b[0m\n\u001b[1;32m     33\u001b[0m         \u001b[0;32mprint\u001b[0m\u001b[0;34m(\u001b[0m\u001b[0mresult\u001b[0m\u001b[0;34m)\u001b[0m\u001b[0;34m\u001b[0m\u001b[0m\n\u001b[1;32m     34\u001b[0m \u001b[0;34m\u001b[0m\u001b[0m\n\u001b[0;32m---> 35\u001b[0;31m \u001b[0mstart\u001b[0m\u001b[0;34m(\u001b[0m\u001b[0mself\u001b[0m\u001b[0;34m,\u001b[0m \u001b[0ma\u001b[0m\u001b[0;34m,\u001b[0m \u001b[0mb\u001b[0m\u001b[0;34m)\u001b[0m\u001b[0;34m\u001b[0m\u001b[0m\n\u001b[0m\u001b[1;32m     36\u001b[0m \u001b[0;32mprint\u001b[0m\u001b[0;34m(\u001b[0m\u001b[0;34m\"  Menu  \"\u001b[0m\u001b[0;34m)\u001b[0m\u001b[0;34m\u001b[0m\u001b[0m\n\u001b[1;32m     37\u001b[0m \u001b[0;32mprint\u001b[0m\u001b[0;34m(\u001b[0m\u001b[0;34m\"--------\"\u001b[0m\u001b[0;34m)\u001b[0m\u001b[0;34m\u001b[0m\u001b[0m\n",
      "\u001b[0;31mNameError\u001b[0m: name 'start' is not defined"
     ]
    }
   ],
   "source": [
    "class Ainput:\n",
    "    def __init__(self, a, b):\n",
    "        self.a = a\n",
    "        self.b = b\n",
    "    def printnum(self):\n",
    "        print(\"첫번째 숫자: \", self.a)\n",
    "        print(\"두번째 숫자: \", self.b)\n",
    "\n",
    "class Calculator(Ainput):\n",
    "    def __init__(self, a, b):\n",
    "        self.a = a\n",
    "        self.b = b\n",
    "    def start(self, a, b):\n",
    "        a = input(\"첫번째 숫자: \")\n",
    "        b = input(\"두번째 숫자: \")\n",
    "    def add(self, a, b):\n",
    "        result = a + b\n",
    "        print(result)\n",
    "\n",
    "    def sub(self, a, b):\n",
    "        result = a - b\n",
    "        print(result)\n",
    "\n",
    "    def multiply(self, a, b):\n",
    "        result = a * b\n",
    "        print(result)\n",
    "\n",
    "    def divide(self, a, b):\n",
    "        if a == 0 or b == 0:\n",
    "            print(\"Error\")\n",
    "            return\n",
    "        result = a / b\n",
    "        print(result)\n",
    "        \n",
    "calc = Calculator()\n",
    "calc.start(, a, b)\n",
    "print(\"  Menu  \")\n",
    "print(\"--------\")\n",
    "print(\" 1: add \")\n",
    "print(\" 2: sub \")\n",
    "print(\" 3: multiply\")\n",
    "print(\" 4: divide\")\n",
    "print(\" 5: stop\")\n",
    "sel = int(input(\":\"))\n",
    "\n",
    "if(sel == 1):\n",
    "    add()\n",
    "elif(sel == 2):\n",
    "   sub()\n",
    "elif(sel == 3):\n",
    "   multiply()\n",
    "elif(sel == 4):\n",
    "    divide()\n",
    "\n",
    "else:\n",
    "    print(\"Wrong input, please input again\")\n"
   ]
  },
  {
   "cell_type": "code",
   "execution_count": 17,
   "metadata": {
    "collapsed": false
   },
   "outputs": [
    {
     "name": "stdout",
     "output_type": "stream",
     "text": [
      "현재\n",
      "haha\n"
     ]
    }
   ],
   "source": [
    "student = '현재\\n'\n",
    "print student, \"haha\""
   ]
  },
  {
   "cell_type": "code",
   "execution_count": 13,
   "metadata": {
    "collapsed": true
   },
   "outputs": [],
   "source": [
    "arr = student.strip()"
   ]
  },
  {
   "cell_type": "code",
   "execution_count": 16,
   "metadata": {
    "collapsed": false
   },
   "outputs": [
    {
     "name": "stdout",
     "output_type": "stream",
     "text": [
      "현재 haha\n"
     ]
    }
   ],
   "source": [
    "print arr, \"haha\""
   ]
  },
  {
   "cell_type": "code",
   "execution_count": 20,
   "metadata": {
    "collapsed": false
   },
   "outputs": [
    {
     "ename": "AttributeError",
     "evalue": "'module' object has no attribute 'empty'",
     "output_type": "error",
     "traceback": [
      "\u001b[0;31m---------------------------------------------------------------------------\u001b[0m",
      "\u001b[0;31mAttributeError\u001b[0m                            Traceback (most recent call last)",
      "\u001b[0;32m<ipython-input-20-f38b23638998>\u001b[0m in \u001b[0;36m<module>\u001b[0;34m()\u001b[0m\n\u001b[1;32m      1\u001b[0m \u001b[0;32mimport\u001b[0m \u001b[0mmath\u001b[0m\u001b[0;34m\u001b[0m\u001b[0m\n\u001b[0;32m----> 2\u001b[0;31m \u001b[0mmath\u001b[0m\u001b[0;34m.\u001b[0m\u001b[0mempty\u001b[0m\u001b[0;34m(\u001b[0m\u001b[0;36m4\u001b[0m\u001b[0;34m,\u001b[0m \u001b[0mfloat\u001b[0m\u001b[0;34m)\u001b[0m\u001b[0;34m\u001b[0m\u001b[0m\n\u001b[0m",
      "\u001b[0;31mAttributeError\u001b[0m: 'module' object has no attribute 'empty'"
     ]
    }
   ],
   "source": [
    "import math\n",
    "math.empty(4, float)"
   ]
  },
  {
   "cell_type": "code",
   "execution_count": 22,
   "metadata": {
    "collapsed": false
   },
   "outputs": [
    {
     "name": "stdout",
     "output_type": "stream",
     "text": [
      "input: 1 2 3 4 5 6 \n"
     ]
    },
    {
     "ename": "SyntaxError",
     "evalue": "invalid syntax (<string>, line 1)",
     "output_type": "error",
     "traceback": [
      "\u001b[0;36m  File \u001b[0;32m\"<string>\"\u001b[0;36m, line \u001b[0;32m1\u001b[0m\n\u001b[0;31m    1 2 3 4 5 6\u001b[0m\n\u001b[0m      ^\u001b[0m\n\u001b[0;31mSyntaxError\u001b[0m\u001b[0;31m:\u001b[0m invalid syntax\n"
     ]
    }
   ],
   "source": [
    "txt = input(\"input: \")"
   ]
  },
  {
   "cell_type": "code",
   "execution_count": 24,
   "metadata": {
    "collapsed": false
   },
   "outputs": [],
   "source": [
    "count = -1\n",
    "num = 0\n",
    "total = 0\n",
    "while (num != 0):\n",
    "    num = input(' 숫자 하나씩 입력:')\n",
    "    total = total + num\n",
    "    count = count + 1\n",
    "    if num == 0:\n",
    "        print('지금 0을 입력했네요. 지금까지 입력된 수는{}개이고 합계는 {}개입니다.' .format (count,sum))"
   ]
  },
  {
   "cell_type": "code",
   "execution_count": 26,
   "metadata": {
    "collapsed": false
   },
   "outputs": [],
   "source": [
    "class A:\n",
    "    def __init__(self):\n",
    "        pass\n",
    "    \n",
    "temp = A()"
   ]
  },
  {
   "cell_type": "code",
   "execution_count": 27,
   "metadata": {
    "collapsed": true
   },
   "outputs": [],
   "source": [
    "temp.aagag = 'a'"
   ]
  },
  {
   "cell_type": "code",
   "execution_count": 28,
   "metadata": {
    "collapsed": false
   },
   "outputs": [
    {
     "data": {
      "text/plain": [
       "'a'"
      ]
     },
     "execution_count": 28,
     "metadata": {},
     "output_type": "execute_result"
    }
   ],
   "source": [
    "temp.aagag"
   ]
  },
  {
   "cell_type": "code",
   "execution_count": 29,
   "metadata": {
    "collapsed": true
   },
   "outputs": [],
   "source": [
    "import numpy as np\n",
    "np.random.seed(0)\n",
    "X_xor = np.random.randn(200,2)\n",
    "y_xor = np.logical_xor(X_xor[:,0] > 0, X_xor[:, 1]>0)\n",
    "y_xor = np.where(y_xor, 1, -1)\n"
   ]
  },
  {
   "cell_type": "code",
   "execution_count": 30,
   "metadata": {
    "collapsed": false
   },
   "outputs": [
    {
     "data": {
      "text/plain": [
       "array([-1, -1,  1,  1,  1, -1, -1, -1,  1,  1,  1,  1,  1,  1, -1, -1, -1,\n",
       "        1, -1, -1, -1,  1, -1,  1, -1,  1, -1,  1, -1, -1, -1, -1,  1,  1,\n",
       "        1, -1,  1,  1, -1,  1,  1,  1, -1,  1,  1,  1, -1, -1, -1, -1,  1,\n",
       "        1,  1, -1, -1, -1,  1,  1,  1, -1,  1, -1, -1,  1, -1,  1,  1,  1,\n",
       "        1,  1,  1, -1, -1,  1, -1,  1, -1, -1,  1, -1,  1, -1,  1, -1, -1,\n",
       "       -1,  1,  1, -1,  1, -1, -1,  1,  1,  1,  1, -1,  1, -1, -1, -1, -1,\n",
       "        1, -1,  1, -1,  1, -1,  1,  1, -1,  1,  1, -1, -1, -1,  1,  1,  1,\n",
       "       -1, -1, -1, -1, -1, -1,  1,  1, -1, -1,  1, -1, -1,  1, -1,  1,  1,\n",
       "       -1, -1,  1,  1,  1,  1, -1,  1, -1, -1,  1,  1, -1,  1,  1, -1,  1,\n",
       "       -1,  1,  1, -1,  1, -1, -1, -1,  1, -1,  1,  1,  1,  1,  1,  1,  1,\n",
       "        1, -1, -1,  1, -1, -1,  1, -1, -1,  1, -1, -1,  1, -1, -1,  1,  1,\n",
       "       -1,  1,  1,  1, -1,  1, -1, -1,  1, -1, -1, -1, -1])"
      ]
     },
     "execution_count": 30,
     "metadata": {},
     "output_type": "execute_result"
    }
   ],
   "source": [
    "y_xor"
   ]
  },
  {
   "cell_type": "code",
   "execution_count": 31,
   "metadata": {
    "collapsed": false
   },
   "outputs": [
    {
     "data": {
      "text/plain": [
       "101"
      ]
     },
     "execution_count": 31,
     "metadata": {},
     "output_type": "execute_result"
    }
   ],
   "source": [
    "y_xor[y_xor==1].sum()"
   ]
  },
  {
   "cell_type": "code",
   "execution_count": 32,
   "metadata": {
    "collapsed": false
   },
   "outputs": [
    {
     "data": {
      "text/plain": [
       "-99"
      ]
     },
     "execution_count": 32,
     "metadata": {},
     "output_type": "execute_result"
    }
   ],
   "source": [
    "y_xor[y_xor==-1].sum()"
   ]
  },
  {
   "cell_type": "code",
   "execution_count": 37,
   "metadata": {
    "collapsed": false
   },
   "outputs": [],
   "source": [
    "import matplotlib.pyplot as plt\n",
    "%matplotlib inline\n",
    "%config InlineBackend.close_figures = False"
   ]
  },
  {
   "cell_type": "code",
   "execution_count": 38,
   "metadata": {
    "collapsed": true
   },
   "outputs": [],
   "source": [
    "X_xor = np.random.randn(200,2)"
   ]
  },
  {
   "cell_type": "code",
   "execution_count": 41,
   "metadata": {
    "collapsed": false
   },
   "outputs": [
    {
     "data": {
      "text/plain": [
       "-0.1074597310949032"
      ]
     },
     "execution_count": 41,
     "metadata": {},
     "output_type": "execute_result"
    }
   ],
   "source": [
    "X_xor[:,0].mean()"
   ]
  },
  {
   "cell_type": "code",
   "execution_count": 42,
   "metadata": {
    "collapsed": false
   },
   "outputs": [
    {
     "data": {
      "text/plain": [
       "-0.12956232361266534"
      ]
     },
     "execution_count": 42,
     "metadata": {},
     "output_type": "execute_result"
    }
   ],
   "source": [
    "X_xor[:,1].mean()"
   ]
  },
  {
   "cell_type": "code",
   "execution_count": 43,
   "metadata": {
    "collapsed": false
   },
   "outputs": [
    {
     "data": {
      "text/plain": [
       "-0.11851102735378427"
      ]
     },
     "execution_count": 43,
     "metadata": {},
     "output_type": "execute_result"
    }
   ],
   "source": [
    "X_xor.mean()"
   ]
  },
  {
   "cell_type": "code",
   "execution_count": 44,
   "metadata": {
    "collapsed": false
   },
   "outputs": [
    {
     "data": {
      "text/plain": [
       "0.98083408290717988"
      ]
     },
     "execution_count": 44,
     "metadata": {},
     "output_type": "execute_result"
    }
   ],
   "source": [
    "X_xor[:,0].std()"
   ]
  },
  {
   "cell_type": "code",
   "execution_count": 45,
   "metadata": {
    "collapsed": false
   },
   "outputs": [
    {
     "data": {
      "text/plain": [
       "1.0239086228873744"
      ]
     },
     "execution_count": 45,
     "metadata": {},
     "output_type": "execute_result"
    }
   ],
   "source": [
    "X_xor[:,1].std()"
   ]
  },
  {
   "cell_type": "code",
   "execution_count": 46,
   "metadata": {
    "collapsed": false
   },
   "outputs": [
    {
     "data": {
      "text/plain": [
       "1.0026636097200026"
      ]
     },
     "execution_count": 46,
     "metadata": {},
     "output_type": "execute_result"
    }
   ],
   "source": [
    "X_xor.std()"
   ]
  },
  {
   "cell_type": "code",
   "execution_count": 47,
   "metadata": {
    "collapsed": false
   },
   "outputs": [
    {
     "data": {
      "text/plain": [
       "array([-0.59865394,  0.76666318, -1.76853845,  0.81451982, -0.18505367,\n",
       "       -1.4465347 , -0.30911444,  1.73272119,  0.370825  ,  1.51999486,\n",
       "        0.92950511, -2.09460307, -0.13010695,  0.94304609, -0.56931205,\n",
       "       -0.46684555,  0.86896349, -0.97110457,  0.82158571,  0.8005648 ,\n",
       "       -0.39522898, -0.08593077,  0.87583276,  0.45741561, -0.78262916,\n",
       "       -1.05462846,  0.46313033,  0.33890413, -0.46886419,  0.1993002 ,\n",
       "       -0.51751904, -0.43918952, -0.5028167 , -0.96050438, -2.28862004,\n",
       "       -2.01640663, -0.27567053,  1.73887268,  1.31913688,  1.12859406,\n",
       "        0.77140595, -0.90876325,  0.86259601,  1.51332808, -0.04570396,\n",
       "       -1.02993528,  1.10028434,  2.69622405, -0.65855297, -1.01804188,\n",
       "        0.38273243,  1.09634685, -0.34745065, -1.63263453, -1.17915793,\n",
       "        0.89526027, -1.33221165, -0.66005632,  0.49869027,  0.28427967,\n",
       "       -0.22260568, -1.68121822,  0.24211796,  0.93674246, -2.36958691,\n",
       "       -2.23960406,  1.22487056, -1.27968917, -0.26164545, -0.20289684,\n",
       "        0.21348005, -0.24201983, -0.38464542,  1.0781973 ,  1.1813786 ,\n",
       "        0.16392857,  0.94246812, -0.67802578, -2.36417382, -1.34792542,\n",
       "        2.01125668,  0.1950697 , -0.72904466,  0.35475769,  0.0086279 ,\n",
       "        0.45378191,  0.03700572,  0.58987982, -0.80562651, -0.13105401,\n",
       "       -1.9518041 , -1.13980246, -0.55430963, -0.21694957, -0.392389  ,\n",
       "        0.54331189, -0.21954103,  0.35178011, -0.47003288, -0.9301565 ,\n",
       "       -1.55042935, -0.94436849, -1.40596292, -0.11048941,  0.11514787,\n",
       "       -1.7423562 ,  0.60512008, -0.13190864,  0.22384356,  1.28598401,\n",
       "        0.67646073, -0.22425893, -0.37514712,  0.1833392 , -0.05613302,\n",
       "       -0.68729904,  0.46616643, -0.45380404, -0.91800477,  0.8203218 ,\n",
       "       -0.09038201,  1.03440989, -1.21793851,  1.02893549, -0.60065756,\n",
       "        0.28690449,  0.31716063,  0.22560865, -0.06727561, -0.370704  ,\n",
       "       -0.93274091,  0.45248909, -0.44816536, -0.02342311, -2.00421572,\n",
       "       -0.54571197, -1.94570308,  0.21950956, -0.93898157,  1.4229835 ,\n",
       "       -0.59140267,  0.7553957 , -0.65646367,  2.11679102, -0.03576807,\n",
       "        0.33057676, -1.50239657, -0.53270279, -0.34624945,  0.19796729,\n",
       "       -1.4449402 , -0.78866925,  0.23482153,  0.93644573,  1.26507784,\n",
       "       -0.70492135, -0.69632665,  1.3277827 , -0.80314139,  1.02179059,\n",
       "       -0.38687085,  0.18392549, -1.60183605, -0.93278904,  0.81267404,\n",
       "       -0.50535832, -0.5075176 ,  2.49720039,  0.56400854, -0.10434349,\n",
       "       -1.17762896,  1.75498615, -0.76570219,  0.01034931, -1.82425666,\n",
       "        0.77269484,  0.44819528, -0.0148577 ,  0.67057045,  0.03976673,\n",
       "       -0.45130304,  0.72310049,  0.71998373, -0.10169727,  1.84959125,\n",
       "       -0.49901664, -0.91911344, -0.36505522, -0.05858655, -1.6324233 ,\n",
       "        1.48935596,  0.61192719,  0.47689837,  0.52904524, -1.35978073,\n",
       "       -0.75787086, -0.89740093, -0.85897239,  0.07458641, -0.4246633 ])"
      ]
     },
     "execution_count": 47,
     "metadata": {},
     "output_type": "execute_result"
    }
   ],
   "source": [
    "X_xor[:, 0]"
   ]
  },
  {
   "cell_type": "code",
   "execution_count": 48,
   "metadata": {
    "collapsed": false
   },
   "outputs": [
    {
     "data": {
      "text/plain": [
       "array([ -1.11589699e+00,   3.56292817e-01,   3.55481793e-01,\n",
       "         5.89255892e-02,  -8.07648488e-01,   8.00297949e-01,\n",
       "        -2.33466662e-01,   6.84501107e-01,   1.42061805e-01,\n",
       "         1.71958931e+00,   5.82224591e-01,   1.23721914e-01,\n",
       "         9.39532294e-02,  -2.73967717e+00,   2.69904355e-01,\n",
       "        -1.41690611e+00,   2.76871906e-01,   3.14817205e-01,\n",
       "         5.29264630e-03,   7.82601752e-02,  -1.15942052e+00,\n",
       "         1.94292938e-01,  -1.15107468e-01,  -9.64612014e-01,\n",
       "        -1.10389299e-01,   8.20247837e-01,   2.79095764e-01,\n",
       "         2.02104356e+00,  -2.20144129e+00,  -5.06035410e-02,\n",
       "        -9.78829859e-01,   1.81338429e-01,   2.41245368e+00,\n",
       "        -7.93117363e-01,   2.51484415e-01,  -5.39454633e-01,\n",
       "        -7.09727966e-01,   9.94394391e-01,  -8.82418819e-01,\n",
       "         4.96000946e-01,   1.02943883e+00,  -4.24317621e-01,\n",
       "        -2.65561909e+00,   5.53132064e-01,   2.20507656e-01,\n",
       "        -3.49943365e-01,   1.29802197e+00,  -7.39246663e-02,\n",
       "        -5.14233966e-01,  -7.78547559e-02,  -3.42422805e-02,\n",
       "        -2.34215801e-01,  -5.81268477e-01,  -1.56776772e+00,\n",
       "         1.30142807e+00,   1.37496407e+00,  -1.96862469e+00,\n",
       "         1.75818953e-01,   1.04797216e+00,   1.74266878e+00,\n",
       "        -9.13079218e-01,  -8.88971358e-01,  -8.88720257e-01,\n",
       "         1.41232771e+00,   8.64052300e-01,   4.01499055e-01,\n",
       "         6.48561063e-02,  -5.85431204e-01,  -1.82244784e-01,\n",
       "        -1.09882779e-01,  -1.20857365e+00,   1.51826117e+00,\n",
       "        -4.43836093e-01,  -2.55918467e+00,  -6.31903758e-01,\n",
       "         9.63213559e-02,  -2.67594746e-01,   1.29784579e+00,\n",
       "         2.03341817e-02,  -7.61573388e-01,  -4.45954265e-02,\n",
       "        -1.78156286e+00,   1.96557401e-01,   6.16886554e-01,\n",
       "         5.27004208e-01,  -1.82974041e+00,   7.67902408e-01,\n",
       "        -3.63858810e-01,  -1.11831192e+00,   1.13307988e+00,\n",
       "        -6.59891730e-01,   7.84957521e-01,  -4.70637658e-01,\n",
       "         4.45393251e-01,  -3.04614305e+00,   4.39042958e-01,\n",
       "        -1.08403662e+00,   3.79235534e-01,  -2.16731471e-01,\n",
       "        -1.78589092e-01,   4.17318821e-01,   2.38103148e-01,\n",
       "        -5.90057646e-01,  -1.66069981e+00,  -3.79147563e-01,\n",
       "        -1.30324275e+00,   8.95555986e-01,   4.04761812e-01,\n",
       "         3.29622982e-01,  -1.50699840e+00,  -3.82008956e-01,\n",
       "        -3.02249730e-01,  -1.22619619e+00,   1.67094303e+00,\n",
       "        -1.38504274e-03,  -1.17474546e-01,  -3.70242441e-01,\n",
       "         4.03264540e-01,   2.52496627e-01,   1.35994854e+00,\n",
       "         1.36759724e+00,  -9.96212640e-01,  -3.04963638e-01,\n",
       "        -7.22870076e-02,   1.55224318e+00,  -2.32059428e+00,\n",
       "         5.20040615e-01,   4.49712100e-01,  -1.31839587e+00,\n",
       "        -9.45615796e-01,  -1.26306835e+00,   9.78961454e-02,\n",
       "        -6.49337928e-01,   1.07919473e+00,   3.76876521e-01,\n",
       "        -1.88458584e+00,  -9.12783494e-01,   3.93062934e-01,\n",
       "         1.01702099e+00,   3.96086585e-01,   1.12441918e+00,\n",
       "         8.67407411e-01,  -2.83455451e+00,  -1.61087840e+00,\n",
       "         2.38074535e+00,   9.49246474e-01,  -1.77766695e+00,\n",
       "         1.09074973e+00,  -7.94636321e-01,   1.08193522e+00,\n",
       "        -1.21054299e+00,   1.09463837e+00,   2.13215341e+00,\n",
       "        -3.50951769e-02,   2.11497013e-01,   6.79974844e-01,\n",
       "        -2.90397101e-01,  -1.01281486e-01,  -4.64337691e-01,\n",
       "        -5.52540673e-01,  -5.10292740e-01,  -3.85489760e-01,\n",
       "        -8.87180942e-01,   1.24331938e+00,   5.87259379e-01,\n",
       "        -8.15791542e-01,  -1.05188010e+00,  -2.24532165e+00,\n",
       "        -1.28455230e+00,  -9.88001942e-01,  -1.14019630e+00,\n",
       "        -1.32988422e-01,   5.55786964e-01,   7.20033759e-01,\n",
       "         3.03603904e-01,  -1.66159829e+00,   1.69618157e+00,\n",
       "         8.21405937e-01,  -7.07505698e-01,  -1.56699471e+00,\n",
       "         2.65687975e-01,   2.46121252e-02,  -1.10290621e+00,\n",
       "         1.92793845e-02,  -2.14166656e-01,   2.13512238e-02,\n",
       "         1.92753849e-01,  -1.79132755e+00,  -3.17543094e-01,\n",
       "        -6.71341546e-02,   5.21303748e-01,  -1.34149673e+00,\n",
       "         1.48449581e-01,   4.22628622e-01,  -4.14008116e-02,\n",
       "        -5.00840943e-02,   1.31247037e+00,  -8.98942156e-01,\n",
       "        -1.07709907e+00,  -8.29964598e-01])"
      ]
     },
     "execution_count": 48,
     "metadata": {},
     "output_type": "execute_result"
    }
   ],
   "source": [
    "X_xor[:, 1]"
   ]
  },
  {
   "cell_type": "code",
   "execution_count": null,
   "metadata": {
    "collapsed": true
   },
   "outputs": [],
   "source": []
  }
 ],
 "metadata": {
  "anaconda-cloud": {},
  "kernelspec": {
   "display_name": "Python [conda root]",
   "language": "python",
   "name": "conda-root-py"
  },
  "language_info": {
   "codemirror_mode": {
    "name": "ipython",
    "version": 2
   },
   "file_extension": ".py",
   "mimetype": "text/x-python",
   "name": "python",
   "nbconvert_exporter": "python",
   "pygments_lexer": "ipython2",
   "version": "2.7.12"
  }
 },
 "nbformat": 4,
 "nbformat_minor": 1
}
