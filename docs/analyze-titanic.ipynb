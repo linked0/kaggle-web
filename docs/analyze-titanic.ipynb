{
 "cells": [
  {
   "cell_type": "code",
   "execution_count": 11,
   "metadata": {
    "collapsed": false,
    "scrolled": false
   },
   "outputs": [
    {
     "name": "stderr",
     "output_type": "stream",
     "text": [
      ">>>>>> base_data.py:22:__init__:\tstart\n",
      ">>>>>> base_data.py:75:set_data_file:\tstart\n",
      ">>>>>> base_data.py:70:set_label_name:\tlabel:Survived\n"
     ]
    },
    {
     "data": {
      "text/plain": [
       "Index([u'PassengerId', u'Survived', u'Pclass', u'Name', u'Sex', u'Age',\n",
       "       u'SibSp', u'Parch', u'Ticket', u'Fare', u'Cabin', u'Embarked'],\n",
       "      dtype='object')"
      ]
     },
     "execution_count": 11,
     "metadata": {},
     "output_type": "execute_result"
    }
   ],
   "source": [
    "import preprocess_data.base_data as bd\n",
    "reload(bd)\n",
    "from preprocess_data.base_data import BaseData\n",
    "\n",
    "basedt = BaseData()\n",
    "basedt.set_data_file('./data/train.csv')\n",
    "basedt.set_columns(['Pclass', 'Sex', 'Age', 'SibSp', 'Parch', 'Fare', 'Embarked'])\n",
    "basedt.set_label_name('Survived')\n",
    "# basedt.view_head()\n",
    "basedt.load_data2()\n",
    "basedt.loaded_data.columns"
   ]
  },
  {
   "cell_type": "code",
   "execution_count": null,
   "metadata": {
    "collapsed": true
   },
   "outputs": [],
   "source": []
  }
 ],
 "metadata": {
  "anaconda-cloud": {},
  "kernelspec": {
   "display_name": "Python [conda root]",
   "language": "python",
   "name": "conda-root-py"
  },
  "language_info": {
   "codemirror_mode": {
    "name": "ipython",
    "version": 2
   },
   "file_extension": ".py",
   "mimetype": "text/x-python",
   "name": "python",
   "nbconvert_exporter": "python",
   "pygments_lexer": "ipython2",
   "version": "2.7.12"
  }
 },
 "nbformat": 4,
 "nbformat_minor": 0
}
