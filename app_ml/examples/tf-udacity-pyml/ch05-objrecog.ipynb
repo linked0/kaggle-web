{
 "cells": [
  {
   "cell_type": "code",
   "execution_count": 37,
   "metadata": {
    "collapsed": false
   },
   "outputs": [
    {
     "data": {
      "text/plain": [
       "[('n02085620-Chihuahua',\n",
       "  './imagenet-dogs/n02085620-Chihuahua/n02085620_10074.jpg'),\n",
       " ('n02085620-Chihuahua',\n",
       "  './imagenet-dogs/n02085620-Chihuahua/n02085620_10131.jpg')]"
      ]
     },
     "execution_count": 37,
     "metadata": {},
     "output_type": "execute_result"
    }
   ],
   "source": [
    "import numpy as np\n",
    "from pandas import DataFrame\n",
    "arr = DataFrame(np.arange(12).reshape((3,4)), columns=['al', 'beta', 'gamma', 'lambda'])\n",
    "\n",
    "import glob\n",
    "image_filenames = glob.glob('./imagenet-dogs/n02*/*.jpg')\n",
    "from itertools import groupby\n",
    "from collections import defaultdict\n",
    "image_filenames[:2]\n",
    "\n",
    "image_filename_with_breed = map(lambda filename: (filename.split(\"/\")[2], filename), image_filenames)\n",
    "image_filename_with_breed[:2]"
   ]
  },
  {
   "cell_type": "code",
   "execution_count": 38,
   "metadata": {
    "collapsed": false
   },
   "outputs": [],
   "source": [
    "training_dataset = defaultdict(list)\n",
    "testing_dataset = defaultdict(list)\n",
    "for dog_breed, breed_images in groupby(image_filename_with_breed, lambda x: x[0]):\n",
    "    for i, breed_image in enumerate(breed_images):\n",
    "        if i % 5 == 0:\n",
    "            testing_dataset[dog_breed].append(breed_image[1])\n",
    "        else:\n",
    "            training_dataset[dog_breed].append(breed_image[1])\n",
    "    \n",
    "    # Check that each breed includes at least 18% of the images for testing\n",
    "    breed_training_count = float(len(training_dataset[dog_breed]))\n",
    "    breed_testing_count = float(len(testing_dataset[dog_breed]))\n",
    "\n",
    "#     print('dog breed:%s - train count:%d, test count:%d, ratio:%f' % \n",
    "#           (dog_breed, breed_training_count, breed_testing_count, \n",
    "#            breed_testing_count/(breed_training_count+breed_testing_count)))\n",
    "\n",
    "    assert round(breed_testing_count / (breed_training_count + breed_testing_count), 2) > 0.18, \\\n",
    "        'Not enoughh testing images.'\n"
   ]
  },
  {
   "cell_type": "code",
   "execution_count": 39,
   "metadata": {
    "collapsed": false
   },
   "outputs": [
    {
     "name": "stdout",
     "output_type": "stream",
     "text": [
      "13800 - file name:./imagenet-dogs/n02105855-Shetland_sheepdog/n02105855_13482.jpg\n",
      "START 13800 - file name:./imagenet-dogs/n02105855-Shetland_sheepdog/n02105855_13482.jpg\n",
      "13801 - file name:./imagenet-dogs/n02105855-Shetland_sheepdog/n02105855_13586.jpg\n",
      "13802 - file name:./imagenet-dogs/n02105855-Shetland_sheepdog/n02105855_13611.jpg\n",
      "13803 - file name:./imagenet-dogs/n02105855-Shetland_sheepdog/n02105855_13955.jpg\n",
      "13804 - file name:./imagenet-dogs/n02105855-Shetland_sheepdog/n02105855_14052.jpg\n",
      "13805 - file name:./imagenet-dogs/n02105855-Shetland_sheepdog/n02105855_14081.jpg\n",
      "13806 - file name:./imagenet-dogs/n02105855-Shetland_sheepdog/n02105855_14126.jpg\n",
      "13807 - file name:./imagenet-dogs/n02105855-Shetland_sheepdog/n02105855_14297.jpg\n",
      "13808 - file name:./imagenet-dogs/n02105855-Shetland_sheepdog/n02105855_14509.jpg\n",
      "13809 - file name:./imagenet-dogs/n02105855-Shetland_sheepdog/n02105855_14594.jpg\n",
      "13810 - file name:./imagenet-dogs/n02105855-Shetland_sheepdog/n02105855_14653.jpg\n",
      "13811 - file name:./imagenet-dogs/n02105855-Shetland_sheepdog/n02105855_14868.jpg\n",
      "13812 - file name:./imagenet-dogs/n02105855-Shetland_sheepdog/n02105855_15067.jpg\n",
      "13813 - file name:./imagenet-dogs/n02105855-Shetland_sheepdog/n02105855_15196.jpg\n",
      "13814 - file name:./imagenet-dogs/n02105855-Shetland_sheepdog/n02105855_15233.jpg\n",
      "13815 - file name:./imagenet-dogs/n02105855-Shetland_sheepdog/n02105855_154.jpg\n",
      "13816 - file name:./imagenet-dogs/n02105855-Shetland_sheepdog/n02105855_15506.jpg\n",
      "13817 - file name:./imagenet-dogs/n02105855-Shetland_sheepdog/n02105855_15524.jpg\n",
      "13818 - file name:./imagenet-dogs/n02105855-Shetland_sheepdog/n02105855_15602.jpg\n",
      "13819 - file name:./imagenet-dogs/n02105855-Shetland_sheepdog/n02105855_15776.jpg\n",
      "13820 - file name:./imagenet-dogs/n02105855-Shetland_sheepdog/n02105855_15820.jpg\n",
      "13821 - file name:./imagenet-dogs/n02105855-Shetland_sheepdog/n02105855_15828.jpg\n",
      "13822 - file name:./imagenet-dogs/n02105855-Shetland_sheepdog/n02105855_15856.jpg\n",
      "13823 - file name:./imagenet-dogs/n02105855-Shetland_sheepdog/n02105855_15911.jpg\n",
      "13824 - file name:./imagenet-dogs/n02105855-Shetland_sheepdog/n02105855_15961.jpg\n",
      "13825 - file name:./imagenet-dogs/n02105855-Shetland_sheepdog/n02105855_16072.jpg\n",
      "13826 - file name:./imagenet-dogs/n02105855-Shetland_sheepdog/n02105855_16145.jpg\n",
      "13827 - file name:./imagenet-dogs/n02105855-Shetland_sheepdog/n02105855_16567.jpg\n",
      "13828 - file name:./imagenet-dogs/n02105855-Shetland_sheepdog/n02105855_16893.jpg\n",
      "13829 - file name:./imagenet-dogs/n02105855-Shetland_sheepdog/n02105855_16948.jpg\n",
      "13830 - file name:./imagenet-dogs/n02105855-Shetland_sheepdog/n02105855_16951.jpg\n",
      "13831 - file name:./imagenet-dogs/n02105855-Shetland_sheepdog/n02105855_17096.jpg\n",
      "13832 - file name:./imagenet-dogs/n02105855-Shetland_sheepdog/n02105855_17107.jpg\n",
      "13833 - file name:./imagenet-dogs/n02105855-Shetland_sheepdog/n02105855_17258.jpg\n",
      "13834 - file name:./imagenet-dogs/n02105855-Shetland_sheepdog/n02105855_17300.jpg\n",
      "13835 - file name:./imagenet-dogs/n02105855-Shetland_sheepdog/n02105855_17517.jpg\n",
      "13836 - file name:./imagenet-dogs/n02105855-Shetland_sheepdog/n02105855_17706.jpg\n",
      "13837 - file name:./imagenet-dogs/n02105855-Shetland_sheepdog/n02105855_17893.jpg\n",
      "13838 - file name:./imagenet-dogs/n02105855-Shetland_sheepdog/n02105855_1791.jpg\n",
      "13839 - file name:./imagenet-dogs/n02105855-Shetland_sheepdog/n02105855_1816.jpg\n",
      "13840 - file name:./imagenet-dogs/n02105855-Shetland_sheepdog/n02105855_18288.jpg\n",
      "13841 - file name:./imagenet-dogs/n02105855-Shetland_sheepdog/n02105855_18293.jpg\n",
      "13842 - file name:./imagenet-dogs/n02105855-Shetland_sheepdog/n02105855_18443.jpg\n",
      "13843 - file name:./imagenet-dogs/n02105855-Shetland_sheepdog/n02105855_18564.jpg\n",
      "13844 - file name:./imagenet-dogs/n02105855-Shetland_sheepdog/n02105855_18782.jpg\n",
      "13845 - file name:./imagenet-dogs/n02105855-Shetland_sheepdog/n02105855_190.jpg\n",
      "13846 - file name:./imagenet-dogs/n02105855-Shetland_sheepdog/n02105855_19002.jpg\n",
      "13847 - file name:./imagenet-dogs/n02105855-Shetland_sheepdog/n02105855_19486.jpg\n",
      "13848 - file name:./imagenet-dogs/n02105855-Shetland_sheepdog/n02105855_19616.jpg\n",
      "13849 - file name:./imagenet-dogs/n02105855-Shetland_sheepdog/n02105855_1963.jpg\n",
      "13850 - file name:./imagenet-dogs/n02105855-Shetland_sheepdog/n02105855_19782.jpg\n",
      "13851 - file name:./imagenet-dogs/n02105855-Shetland_sheepdog/n02105855_19944.jpg\n",
      "13852 - file name:./imagenet-dogs/n02105855-Shetland_sheepdog/n02105855_2039.jpg\n",
      "13853 - file name:./imagenet-dogs/n02105855-Shetland_sheepdog/n02105855_2094.jpg\n",
      "13854 - file name:./imagenet-dogs/n02105855-Shetland_sheepdog/n02105855_2172.jpg\n",
      "13855 - file name:./imagenet-dogs/n02105855-Shetland_sheepdog/n02105855_2433.jpg\n",
      "13856 - file name:./imagenet-dogs/n02105855-Shetland_sheepdog/n02105855_2853.jpg\n",
      "13857 - file name:./imagenet-dogs/n02105855-Shetland_sheepdog/n02105855_3103.jpg\n",
      "13858 - file name:./imagenet-dogs/n02105855-Shetland_sheepdog/n02105855_3150.jpg\n",
      "13859 - file name:./imagenet-dogs/n02105855-Shetland_sheepdog/n02105855_3255.jpg\n",
      "13860 - file name:./imagenet-dogs/n02105855-Shetland_sheepdog/n02105855_3292.jpg\n",
      "13861 - file name:./imagenet-dogs/n02105855-Shetland_sheepdog/n02105855_3399.jpg\n",
      "13862 - file name:./imagenet-dogs/n02105855-Shetland_sheepdog/n02105855_3434.jpg\n",
      "13863 - file name:./imagenet-dogs/n02105855-Shetland_sheepdog/n02105855_3549.jpg\n",
      "13864 - file name:./imagenet-dogs/n02105855-Shetland_sheepdog/n02105855_3672.jpg\n",
      "13865 - file name:./imagenet-dogs/n02105855-Shetland_sheepdog/n02105855_3702.jpg\n",
      "13866 - file name:./imagenet-dogs/n02105855-Shetland_sheepdog/n02105855_3892.jpg\n",
      "13867 - file name:./imagenet-dogs/n02105855-Shetland_sheepdog/n02105855_4281.jpg\n",
      "13868 - file name:./imagenet-dogs/n02105855-Shetland_sheepdog/n02105855_4302.jpg\n",
      "13869 - file name:./imagenet-dogs/n02105855-Shetland_sheepdog/n02105855_4541.jpg\n",
      "13870 - file name:./imagenet-dogs/n02105855-Shetland_sheepdog/n02105855_4897.jpg\n",
      "13871 - file name:./imagenet-dogs/n02105855-Shetland_sheepdog/n02105855_5165.jpg\n",
      "13872 - file name:./imagenet-dogs/n02105855-Shetland_sheepdog/n02105855_5719.jpg\n",
      "13873 - file name:./imagenet-dogs/n02105855-Shetland_sheepdog/n02105855_5880.jpg\n",
      "13874 - file name:./imagenet-dogs/n02105855-Shetland_sheepdog/n02105855_5949.jpg\n",
      "13875 - file name:./imagenet-dogs/n02105855-Shetland_sheepdog/n02105855_6281.jpg\n",
      "13876 - file name:./imagenet-dogs/n02105855-Shetland_sheepdog/n02105855_6417.jpg\n",
      "13877 - file name:./imagenet-dogs/n02105855-Shetland_sheepdog/n02105855_6557.jpg\n",
      "13878 - file name:./imagenet-dogs/n02105855-Shetland_sheepdog/n02105855_6802.jpg\n",
      "13879 - file name:./imagenet-dogs/n02105855-Shetland_sheepdog/n02105855_7161.jpg\n",
      "13880 - file name:./imagenet-dogs/n02105855-Shetland_sheepdog/n02105855_7224.jpg\n",
      "13881 - file name:./imagenet-dogs/n02105855-Shetland_sheepdog/n02105855_7410.jpg\n",
      "13882 - file name:./imagenet-dogs/n02105855-Shetland_sheepdog/n02105855_742.jpg\n",
      "13883 - file name:./imagenet-dogs/n02105855-Shetland_sheepdog/n02105855_7527.jpg\n",
      "13884 - file name:./imagenet-dogs/n02105855-Shetland_sheepdog/n02105855_7560.jpg\n",
      "13885 - file name:./imagenet-dogs/n02105855-Shetland_sheepdog/n02105855_7607.jpg\n",
      "13886 - file name:./imagenet-dogs/n02105855-Shetland_sheepdog/n02105855_7612.jpg\n",
      "13887 - file name:./imagenet-dogs/n02105855-Shetland_sheepdog/n02105855_7717.jpg\n",
      "13888 - file name:./imagenet-dogs/n02105855-Shetland_sheepdog/n02105855_7763.jpg\n",
      "13889 - file name:./imagenet-dogs/n02105855-Shetland_sheepdog/n02105855_7846.jpg\n",
      "13890 - file name:./imagenet-dogs/n02105855-Shetland_sheepdog/n02105855_7893.jpg\n",
      "13891 - file name:./imagenet-dogs/n02105855-Shetland_sheepdog/n02105855_8378.jpg\n",
      "13892 - file name:./imagenet-dogs/n02105855-Shetland_sheepdog/n02105855_9079.jpg\n",
      "13893 - file name:./imagenet-dogs/n02105855-Shetland_sheepdog/n02105855_9093.jpg\n",
      "13894 - file name:./imagenet-dogs/n02105855-Shetland_sheepdog/n02105855_9277.jpg\n",
      "13895 - file name:./imagenet-dogs/n02105855-Shetland_sheepdog/n02105855_9415.jpg\n",
      "13896 - file name:./imagenet-dogs/n02105855-Shetland_sheepdog/n02105855_9689.jpg\n",
      "13897 - file name:./imagenet-dogs/n02105855-Shetland_sheepdog/n02105855_982.jpg\n",
      "13898 - file name:./imagenet-dogs/n02105855-Shetland_sheepdog/n02105855_9857.jpg\n",
      "13899 - file name:./imagenet-dogs/n02104365-schipperke/n02104365_10139.jpg\n",
      "START 13900 - file name:./imagenet-dogs/n02104365-schipperke/n02104365_10247.jpg\n",
      "START 14000 - file name:./imagenet-dogs/n02104365-schipperke/n02104365_8919.jpg\n",
      "START 14100 - file name:./imagenet-dogs/n02115913-dhole/n02115913_3878.jpg\n",
      "START 14200 - file name:./imagenet-dogs/n02110185-Siberian_husky/n02110185_1511.jpg\n",
      "START 14300 - file name:./imagenet-dogs/n02093256-Staffordshire_bullterrier/n02093256_11820.jpg\n",
      "START 14400 - file name:./imagenet-dogs/n02093256-Staffordshire_bullterrier/n02093256_6575.jpg\n",
      "START 14500 - file name:./imagenet-dogs/n02095570-Lakeland_terrier/n02095570_3798.jpg\n",
      "START 14600 - file name:./imagenet-dogs/n02097298-Scotch_terrier/n02097298_2184.jpg\n",
      "START 14700 - file name:./imagenet-dogs/n02097298-Scotch_terrier/n02097298_9756.jpg\n",
      "START 14800 - file name:./imagenet-dogs/n02109047-Great_Dane/n02109047_562.jpg\n",
      "START 14900 - file name:./imagenet-dogs/n02093647-Bedlington_terrier/n02093647_2488.jpg\n",
      "START 15000 - file name:./imagenet-dogs/n02090721-Irish_wolfhound/n02090721_1845.jpg\n",
      "START 15100 - file name:./imagenet-dogs/n02090721-Irish_wolfhound/n02090721_519.jpg\n",
      "START 15200 - file name:./imagenet-dogs/n02091134-whippet/n02091134_15210.jpg\n",
      "START 15300 - file name:./imagenet-dogs/n02109961-Eskimo_dog/n02109961_11511.jpg\n",
      "START 15400 - file name:./imagenet-dogs/n02109961-Eskimo_dog/n02109961_7861.jpg\n",
      "START 15500 - file name:./imagenet-dogs/n02111277-Newfoundland/n02111277_3951.jpg\n",
      "START 15600 - file name:./imagenet-dogs/n02113023-Pembroke/n02113023_1659.jpg\n",
      "START 15700 - file name:./imagenet-dogs/n02113023-Pembroke/n02113023_710.jpg\n",
      "START 15800 - file name:./imagenet-dogs/n02095889-Sealyham_terrier/n02095889_4074.jpg\n",
      "START 15900 - file name:./imagenet-dogs/n02113978-Mexican_hairless/n02113978_183.jpg\n",
      "START 16000 - file name:./imagenet-dogs/n02101388-Brittany_spaniel/n02101388_10290.jpg\n",
      "START 16100 - file name:./imagenet-dogs/n02101388-Brittany_spaniel/n02101388_7113.jpg\n",
      "START 16200 - file name:./imagenet-dogs/n02086240-Shih-Tzu/n02086240_4346.jpg\n",
      "START 16300 - file name:./imagenet-dogs/n02112350-keeshond/n02112350_10343.jpg\n",
      "START 16400 - file name:./imagenet-dogs/n02112350-keeshond/n02112350_9300.jpg\n",
      "end write_records_file\n"
     ]
    }
   ],
   "source": [
    "import tensorflow as tf\n",
    "def write_records_file(dataset, record_location):\n",
    "    \"\"\"\n",
    "    Fill a TFRecords file with the images found in 'dataset' and include their category.\n",
    "    Parameters\n",
    "    ----------\n",
    "    dataset: dict(list)\n",
    "        Dictionary with each key being a label for the list of image filenames of its value.\n",
    "    record_location: str\n",
    "        Location to store the TFRecord output.\n",
    "    \"\"\"\n",
    "    writer = None\n",
    "    \n",
    "    sess = tf.Session()\n",
    "    # Enumerating the dataset because the current index is used to breakup the files if they get over 100\n",
    "    # images to avoid a slowdown in writing.\n",
    "    current_index = 0\n",
    "    for breed, images_filenames in dataset.items():\n",
    "        for image_filename in images_filenames:\n",
    "            if current_index < 13800:\n",
    "                current_index += 1\n",
    "                continue\n",
    "            elif current_index >= 13800 and current_index < 13900:\n",
    "                print(\"{0} - file name:{1}\".format(current_index, image_filename))\n",
    "            \n",
    "            if current_index % 100 == 0:\n",
    "                print(\"START {0} - file name:{1}\".format(current_index, image_filename))\n",
    "                if writer:\n",
    "                    writer.close()\n",
    "                record_filename = '{record_location}-{current_index}.tfrecords'.format(\n",
    "                    record_location=record_location, current_index=current_index)\n",
    "                writer = tf.python_io.TFRecordWriter(record_filename)\n",
    "            current_index += 1\n",
    "        \n",
    "            image_file = tf.read_file(image_filename)\n",
    "            # In ImageNet dogs, there are a few images which TensorFlow doesn't recognize as JPEGs. This\n",
    "            # try/catch will ignore those images\n",
    "            try:\n",
    "                image = tf.image.decode_jpeg(image_file)\n",
    "            except:\n",
    "                print(image_filename)\n",
    "                continue\n",
    "            \n",
    "            # Converting to grayscale saves processing and memory but isn't required\n",
    "            grayscale_image = tf.image.rgb_to_grayscale(image)\n",
    "            resized_image = tf.image.resize_images(grayscale_image, (250, 151))\n",
    "            \n",
    "            # tf.cast is used here because the resized images are floats but haven't been converted into\n",
    "            # image floats where an RGB value is between [0,1).\n",
    "            image_bytes = sess.run(tf.cast(resized_image, tf.uint8)).tobytes()\n",
    "            \n",
    "            # Instead of using the label as a string, it'd be more efficient to turn it into either an\n",
    "            # integer index or a one-hot encoded rank one tensor.\n",
    "            # https://en.wikipedia.org/wiki/One-hot\n",
    "            image_label = breed.encode('utf-8')\n",
    "            \n",
    "            example = tf.train.Example(features=tf.train.Features(feature={\n",
    "                        'label': tf.train.Feature(bytes_list=tf.train.BytesList(value=[image_label])),\n",
    "                        'image': tf.train.Feature(bytes_list=tf.train.BytesList(value=[image_bytes]))\n",
    "                    }))\n",
    "            writer.write(example.SerializeToString())\n",
    "            \n",
    "    if writer:\n",
    "        writer.close()\n",
    "    sess.close()\n",
    "    print('end write_records_file')\n",
    "\n",
    "write_records_file(testing_dataset, \"./output/testing-images/testing-image\")\n",
    "write_records_file(training_dataset, \"./output/training-images/training-image\")\n",
    "\n",
    "write_records_file(testing_dataset, './output-testing-images-testing-image')\n",
    "write_records_file(training_dataset, './output-training-images-trainging-image')\n",
    "            "
   ]
  },
  {
   "cell_type": "code",
   "execution_count": 45,
   "metadata": {
    "collapsed": true
   },
   "outputs": [],
   "source": [
    "import tensorflow as tf\n",
    "filename_queue = tf.train.string_input_producer(\n",
    "    tf.train.match_filenames_once('~/pooh/poohdrop/large-data/tf_inteligence/output/training-images/*.tfrecords'))"
   ]
  },
  {
   "cell_type": "code",
   "execution_count": 46,
   "metadata": {
    "collapsed": true
   },
   "outputs": [],
   "source": [
    "reader = tf.TFRecordReader()\n",
    "_, serialized = reader.read(filename_queue)\n"
   ]
  },
  {
   "cell_type": "code",
   "execution_count": 47,
   "metadata": {
    "collapsed": true
   },
   "outputs": [],
   "source": [
    "features = tf.parse_single_example(\n",
    "    serialized,\n",
    "    features={\n",
    "        'label': tf.FixedLenFeature([], tf.string),\n",
    "        'image': tf.FixedLenFeature([], tf.string),\n",
    "    })\n",
    "record_image = tf.decode_raw(features['image'], tf.uint8)"
   ]
  },
  {
   "cell_type": "code",
   "execution_count": 48,
   "metadata": {
    "collapsed": false
   },
   "outputs": [
    {
     "data": {
      "text/plain": [
       "<tf.Tensor 'DecodeRaw_1:0' shape=(?,) dtype=uint8>"
      ]
     },
     "execution_count": 48,
     "metadata": {},
     "output_type": "execute_result"
    }
   ],
   "source": [
    "record_image"
   ]
  },
  {
   "cell_type": "code",
   "execution_count": 49,
   "metadata": {
    "collapsed": false,
    "scrolled": true
   },
   "outputs": [],
   "source": [
    "image = tf.reshape(record_image, [250, 151, 1])\n",
    "label = tf.cast(features['label'], tf.string)\n",
    "min_after_dequeue = 10\n",
    "batch_size = 3\n",
    "capacity = min_after_dequeue + 3 * batch_size\n",
    "image_batch, label_batch = tf.train.shuffle_batch(\n",
    "    [image, label], batch_size=batch_size, capacity=capacity,\n",
    "    min_after_dequeue=min_after_dequeue)"
   ]
  },
  {
   "cell_type": "code",
   "execution_count": 58,
   "metadata": {
    "collapsed": false
   },
   "outputs": [],
   "source": [
    "# Converting the images to a float of [0,1) to match the expected input to convolution2d\n",
    "float_image_batch = tf.image.convert_image_dtype(image_batch, tf.float32)\n",
    "conv2d_layer_one = tf.contrib.layers.convolution2d(\n",
    "    float_image_batch,\n",
    "    num_outputs=32,\n",
    "    kernel_size=(5,5),\n",
    "    activation_fn=tf.nn.relu,\n",
    "    weights_initializer=tf.random_normal_initializer(),\n",
    "    stride=(2,2),\n",
    "    trainable=True)\n",
    "pool_layer_one = tf.nn.max_pool(conv2d_layer_one,\n",
    "                                ksize=[1,2,2,1],\n",
    "                               strides=[1,2,2,1],\n",
    "                               padding='SAME')"
   ]
  },
  {
   "cell_type": "code",
   "execution_count": 59,
   "metadata": {
    "collapsed": false
   },
   "outputs": [
    {
     "data": {
      "text/plain": [
       "(TensorShape([Dimension(3), Dimension(125), Dimension(76), Dimension(32)]),\n",
       " TensorShape([Dimension(3), Dimension(63), Dimension(38), Dimension(32)]))"
      ]
     },
     "execution_count": 59,
     "metadata": {},
     "output_type": "execute_result"
    }
   ],
   "source": [
    "# Note, the first and last dimension of the convolution output hasn't changed but the\n",
    "# middle two dimensions have\n",
    "conv2d_layer_one.get_shape(), pool_layer_one.get_shape()"
   ]
  },
  {
   "cell_type": "code",
   "execution_count": null,
   "metadata": {
    "collapsed": true
   },
   "outputs": [],
   "source": []
  }
 ],
 "metadata": {
  "anaconda-cloud": {},
  "kernelspec": {
   "display_name": "Python [conda root]",
   "language": "python",
   "name": "conda-root-py"
  },
  "language_info": {
   "codemirror_mode": {
    "name": "ipython",
    "version": 2
   },
   "file_extension": ".py",
   "mimetype": "text/x-python",
   "name": "python",
   "nbconvert_exporter": "python",
   "pygments_lexer": "ipython2",
   "version": "2.7.12"
  }
 },
 "nbformat": 4,
 "nbformat_minor": 1
}
